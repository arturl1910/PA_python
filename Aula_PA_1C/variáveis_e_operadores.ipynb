{
  "nbformat": 4,
  "nbformat_minor": 0,
  "metadata": {
    "colab": {
      "provenance": [],
      "authorship_tag": "ABX9TyM+V/oIa00s7Du5eUNPGKUP",
      "include_colab_link": true
    },
    "kernelspec": {
      "name": "python3",
      "display_name": "Python 3"
    },
    "language_info": {
      "name": "python"
    }
  },
  "cells": [
    {
      "cell_type": "markdown",
      "metadata": {
        "id": "view-in-github",
        "colab_type": "text"
      },
      "source": [
        "<a href=\"https://colab.research.google.com/github/arturl1910/PA_python/blob/main/Aula_PA_1C/vari%C3%A1veis_e_operadores.ipynb\" target=\"_parent\"><img src=\"https://colab.research.google.com/assets/colab-badge.svg\" alt=\"Open In Colab\"/></a>"
      ]
    },
    {
      "cell_type": "code",
      "source": [
        "#calcular\n",
        "##entrada\n",
        "P1 = float(input('digite a nota da prova 1 '))\n",
        "P2 = float(input('digite a nota da prova 2 '))\n",
        "#processamento\n",
        "soma = (P1 + P2) /2\n",
        "\n",
        "#saida\n",
        "print('a media do aluno e igual á' , soma)"
      ],
      "metadata": {
        "colab": {
          "base_uri": "https://localhost:8080/"
        },
        "id": "VJ1wwzs0V5-d",
        "outputId": "ec3f8c77-5e53-4ad4-82d5-32bbf7c039ba"
      },
      "execution_count": 39,
      "outputs": [
        {
          "output_type": "stream",
          "name": "stdout",
          "text": [
            "digite a nota da prova 1 6\n",
            "digite a nota da prova 2 7\n",
            "a media do aluno e igual á 6.5\n"
          ]
        }
      ]
    },
    {
      "cell_type": "code",
      "source": [
        "#calcular\n",
        "##entrada\n",
        "celsius = float(input('digite a temperatura em celsius '))\n",
        "\n",
        "#processamento\n",
        "fahrenheit = (celsius * 1.8 ) + 32\n",
        "\n",
        "#saida\n",
        "print('a temperatura em  fahrenheit e igual á ' , fahrenheit)"
      ],
      "metadata": {
        "colab": {
          "base_uri": "https://localhost:8080/"
        },
        "id": "elO5or_ka13E",
        "outputId": "9ec4e980-36dd-4c9d-d733-13eae9febe6f"
      },
      "execution_count": 40,
      "outputs": [
        {
          "output_type": "stream",
          "name": "stdout",
          "text": [
            "digite a temperatura em celsius 25\n",
            "a temperatura em  fahrenheit e igual á  77.0\n"
          ]
        }
      ]
    },
    {
      "cell_type": "code",
      "source": [
        "#calcular\n",
        "##entrada\n",
        "fahrenheit = float(input('digite a temperatura em fahrenheit '))\n",
        "\n",
        "#processamento\n",
        "celsius = (fahrenheit - 32)/1.8\n",
        "\n",
        "#saida\n",
        "print('a temperatura em celsius e igual á ' , celsius)"
      ],
      "metadata": {
        "colab": {
          "base_uri": "https://localhost:8080/"
        },
        "id": "DLt-8_DjeZcS",
        "outputId": "50aa1bc7-3e10-4bdd-b1c6-2d7c3f15db82"
      },
      "execution_count": 47,
      "outputs": [
        {
          "output_type": "stream",
          "name": "stdout",
          "text": [
            "digite a temperatura em fahrenheit 500\n",
            "a temperatura em celsius e igual á  260.0\n"
          ]
        }
      ]
    },
    {
      "cell_type": "code",
      "source": [
        "#calcular\n",
        "#entrada\n",
        "quantidade = float(input('valor do produto '))\n",
        "valor = float(input('quantidade do produto '))\n",
        "#processamento\n",
        "total = quantidade * valor\n",
        "#saida\n",
        "print(' o valor total é de' , total)"
      ],
      "metadata": {
        "colab": {
          "base_uri": "https://localhost:8080/"
        },
        "id": "pq1bjRYMj2SY",
        "outputId": "2b67877d-18bb-4143-a6c4-2588a50546d9"
      },
      "execution_count": 46,
      "outputs": [
        {
          "output_type": "stream",
          "name": "stdout",
          "text": [
            "valor do produto 7\n",
            "quantidade do produto 8\n",
            " o valor total é de 56.0\n"
          ]
        }
      ]
    },
    {
      "cell_type": "code",
      "source": [],
      "metadata": {
        "id": "gpkPEVV5kKa4"
      },
      "execution_count": null,
      "outputs": []
    }
  ]
}