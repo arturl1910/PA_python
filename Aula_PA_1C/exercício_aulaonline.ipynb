{
  "nbformat": 4,
  "nbformat_minor": 0,
  "metadata": {
    "colab": {
      "provenance": [],
      "authorship_tag": "ABX9TyMQ5Sxopc05t9DpbbgCUZ+8",
      "include_colab_link": true
    },
    "kernelspec": {
      "name": "python3",
      "display_name": "Python 3"
    },
    "language_info": {
      "name": "python"
    }
  },
  "cells": [
    {
      "cell_type": "markdown",
      "metadata": {
        "id": "view-in-github",
        "colab_type": "text"
      },
      "source": [
        "<a href=\"https://colab.research.google.com/github/arturl1910/PA_python/blob/main/Aula_PA_1C/exerc%C3%ADcio_aulaonline.ipynb\" target=\"_parent\"><img src=\"https://colab.research.google.com/assets/colab-badge.svg\" alt=\"Open In Colab\"/></a>"
      ]
    },
    {
      "cell_type": "code",
      "execution_count": 2,
      "metadata": {
        "colab": {
          "base_uri": "https://localhost:8080/"
        },
        "id": "YZKTT4m_-Ky0",
        "outputId": "70925ebd-1c3e-4bca-8d95-1457bc63b682"
      },
      "outputs": [
        {
          "output_type": "stream",
          "name": "stdout",
          "text": [
            "Informe o valor do medicamento: R$ 400\n",
            "Informe a idade do cliente: 20\n",
            "Não há desconto aplicado.\n",
            "Valor final a ser pago: R$ 400.00\n"
          ]
        }
      ],
      "source": [
        "# Entrada\n",
        "valor_original = float(input(\"Informe o valor do medicamento: R$ \"))\n",
        "idade = int(input(\"Informe a idade do cliente: \"))\n",
        "\n",
        "##processamento\n",
        "if idade < 12:\n",
        "    desconto = 0.15\n",
        "elif 60 <= idade <= 75:\n",
        "    desconto = 0.20\n",
        "elif idade > 75:\n",
        "    desconto = 0.25\n",
        "else:\n",
        "    desconto = 0.0\n",
        "valor_do_desconto = valor_original * desconto\n",
        "valor_final = valor_original - valor_do_desconto\n",
        "\n",
        "##saida\n",
        "if desconto > 0:\n",
        "    print(f\"Desconto aplicado: R$ {valor_do_desconto:.2f}\")\n",
        "else:\n",
        "    print(\"Não há desconto aplicado.\")\n",
        "\n",
        "print(f\"Valor final a ser pago: R$ {valor_final:.2f}\")\n"
      ]
    }
  ]
}