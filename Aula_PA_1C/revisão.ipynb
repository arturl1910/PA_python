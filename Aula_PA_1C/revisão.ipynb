{
  "nbformat": 4,
  "nbformat_minor": 0,
  "metadata": {
    "colab": {
      "provenance": [],
      "authorship_tag": "ABX9TyNFin1SZV2j4wFjyD+kkFug",
      "include_colab_link": true
    },
    "kernelspec": {
      "name": "python3",
      "display_name": "Python 3"
    },
    "language_info": {
      "name": "python"
    }
  },
  "cells": [
    {
      "cell_type": "markdown",
      "metadata": {
        "id": "view-in-github",
        "colab_type": "text"
      },
      "source": [
        "<a href=\"https://colab.research.google.com/github/arturl1910/PA_python/blob/main/Aula_PA_1C/revis%C3%A3o.ipynb\" target=\"_parent\"><img src=\"https://colab.research.google.com/assets/colab-badge.svg\" alt=\"Open In Colab\"/></a>"
      ]
    },
    {
      "cell_type": "code",
      "execution_count": 21,
      "metadata": {
        "colab": {
          "base_uri": "https://localhost:8080/"
        },
        "id": "MxxFJUtiJ8lh",
        "outputId": "73adf0fb-422a-4d1e-f711-b6c96e2cf844"
      },
      "outputs": [
        {
          "output_type": "stream",
          "name": "stdout",
          "text": [
            "digite um número -8\n",
            "negativo\n"
          ]
        }
      ],
      "source": [
        "##entrada\n",
        "numero=int(input(\"digite um número \"))\n",
        "##processsamento\n",
        "if numero > 0:\n",
        " print('positivo')\n",
        "elif numero < 0:\n",
        " print('negativo')\n",
        "else:\n",
        " print(\"zero\")"
      ]
    },
    {
      "cell_type": "code",
      "source": [
        "##entrada\n",
        "numero=int(input(\"digite um número \"))\n",
        "##processamento\n",
        "if numero %2 == 0:\n",
        " print('par')\n",
        "else:\n",
        " print('impar')"
      ],
      "metadata": {
        "colab": {
          "base_uri": "https://localhost:8080/"
        },
        "id": "CiLbb03LLT87",
        "outputId": "45f41522-9623-419b-cffe-e88baec3266a"
      },
      "execution_count": 22,
      "outputs": [
        {
          "output_type": "stream",
          "name": "stdout",
          "text": [
            "digite um número 4\n",
            "par\n"
          ]
        }
      ]
    },
    {
      "cell_type": "code",
      "source": [
        "##entrada\n",
        "idade=int(input(\"digite sua idade \"))\n",
        "if idade>=18:\n",
        " print('maior de idade')\n",
        "else:\n",
        " print('menor de idade')"
      ],
      "metadata": {
        "colab": {
          "base_uri": "https://localhost:8080/"
        },
        "id": "kpujGwgIMZNc",
        "outputId": "f94e9aaf-fabf-403c-a86c-82333c4433c7"
      },
      "execution_count": 23,
      "outputs": [
        {
          "output_type": "stream",
          "name": "stdout",
          "text": [
            "digite sua idade 7\n",
            "menor de idade\n"
          ]
        }
      ]
    },
    {
      "cell_type": "code",
      "source": [
        "##entrada\n",
        "senha=int(input(\"digite sua senha \"))\n",
        "##processamento\n",
        "if senha==1234:\n",
        " print('acesso permitido')\n",
        "else:\n",
        " print('acesso negado')"
      ],
      "metadata": {
        "colab": {
          "base_uri": "https://localhost:8080/"
        },
        "id": "uxZHNG5hMqcT",
        "outputId": "ab690130-9bbe-40df-dd0c-aebc3017f798"
      },
      "execution_count": 24,
      "outputs": [
        {
          "output_type": "stream",
          "name": "stdout",
          "text": [
            "digite sua senha 312552\n",
            "acesso negado\n"
          ]
        }
      ]
    },
    {
      "cell_type": "code",
      "source": [
        "nota=float(input(\"digite sua nota \"))\n",
        "if nota>=6:\n",
        " print('aprovado')\n",
        "else:\n",
        " print('reprovado')"
      ],
      "metadata": {
        "colab": {
          "base_uri": "https://localhost:8080/"
        },
        "id": "2ucJnsbOM07d",
        "outputId": "e3cf74ca-bd9f-45c6-b9f1-88a0b99fe67f"
      },
      "execution_count": 25,
      "outputs": [
        {
          "output_type": "stream",
          "name": "stdout",
          "text": [
            "digite sua nota 7\n",
            "aprovado\n"
          ]
        }
      ]
    },
    {
      "cell_type": "code",
      "source": [
        "##entrada\n",
        "numero=int(input(\"digite um número \"))\n",
        "##processamento\n",
        "if numero %3==0 and numero %5==0:\n",
        " print('é multiplo de 3 e 5')\n",
        "elif numero %3==0:\n",
        " print('é multiplo de 3')\n",
        "elif numero %5==0:\n",
        " print('é multiplo de 5')\n",
        "else:\n",
        " print('não é multiplo de 3 e 5')\n",
        "\n"
      ],
      "metadata": {
        "colab": {
          "base_uri": "https://localhost:8080/"
        },
        "id": "4JS3OquUND3p",
        "outputId": "016d76c2-7ca8-4eeb-e577-7c89810dd17f"
      },
      "execution_count": 32,
      "outputs": [
        {
          "output_type": "stream",
          "name": "stdout",
          "text": [
            "digite um número 30\n",
            "é multiplo de 3 e 5\n"
          ]
        }
      ]
    },
    {
      "cell_type": "code",
      "source": [
        "##entrada\n",
        "numero=int(input(\"digite um número \"))\n",
        "##processamento\n",
        "if numero >=10 and numero <=20:\n",
        " print('está no intervalo')\n",
        "else:\n",
        " print('não está no intervalo')"
      ],
      "metadata": {
        "colab": {
          "base_uri": "https://localhost:8080/"
        },
        "id": "OhuS7ZlOO39I",
        "outputId": "ccb88feb-0a4d-4a2d-dc40-f755f44cb485"
      },
      "execution_count": 39,
      "outputs": [
        {
          "output_type": "stream",
          "name": "stdout",
          "text": [
            "digite um número 566\n",
            "não está no intervalo\n"
          ]
        }
      ]
    },
    {
      "cell_type": "code",
      "source": [
        "##entrada\n",
        "L1=int(input(\"digite o tres lado do triangulo, digite o lado  do l1 \"))\n",
        "L2=int(input(\"digite o lado do L2 \"))\n",
        "L3=int(input(\"digite o lado do L3 \"))\n",
        "##processamento\n",
        "if L1+L2>L3 and L1+L3>L2 and L2+L3>L1:\n",
        "  print(\"triangulo\")\n",
        "elif L1==L2==L3:\n",
        "  print(\"equilatero\")\n",
        "elif L1==L2 or L1==L3 or L2==L3:\n",
        "  print(\"isoceles\")\n",
        "else:\n",
        "  print(\"escaleno\")\n",
        ""
      ],
      "metadata": {
        "colab": {
          "base_uri": "https://localhost:8080/"
        },
        "id": "2kGfjStbPd1M",
        "outputId": "3d5bff49-ee9a-476b-f3ea-5687feaaad8b"
      },
      "execution_count": 40,
      "outputs": [
        {
          "output_type": "stream",
          "name": "stdout",
          "text": [
            "digite o tres lado do triangulo, digite o lado  do l1 3\n",
            "digite o lado do L2 4\n",
            "digite o lado do L3 7\n",
            "escaleno\n"
          ]
        }
      ]
    }
  ]
}