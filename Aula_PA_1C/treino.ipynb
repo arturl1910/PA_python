{
  "nbformat": 4,
  "nbformat_minor": 0,
  "metadata": {
    "colab": {
      "provenance": [],
      "authorship_tag": "ABX9TyMvifRpMjwNIh9V9TFwVOYK",
      "include_colab_link": true
    },
    "kernelspec": {
      "name": "python3",
      "display_name": "Python 3"
    },
    "language_info": {
      "name": "python"
    }
  },
  "cells": [
    {
      "cell_type": "markdown",
      "metadata": {
        "id": "view-in-github",
        "colab_type": "text"
      },
      "source": [
        "<a href=\"https://colab.research.google.com/github/arturl1910/PA_python/blob/main/Aula_PA_1C/treino.ipynb\" target=\"_parent\"><img src=\"https://colab.research.google.com/assets/colab-badge.svg\" alt=\"Open In Colab\"/></a>"
      ]
    },
    {
      "cell_type": "markdown",
      "source": [
        "Treino para Avaliação\n"
      ],
      "metadata": {
        "id": "rxJoxMlztURN"
      }
    },
    {
      "cell_type": "markdown",
      "source": [
        "1 -Números pares e ímpares em uma lista:\n",
        "* o usuário digita uma sequência de números separados por espaço.\n",
        "* o programa deve transforma em lista de inteiros.\n",
        "* usando for, deve contar quantos são pares e quantos são impares.\n"
      ],
      "metadata": {
        "id": "rD35xMkLta2a"
      }
    },
    {
      "cell_type": "code",
      "source": [
        "numeros = input(\"Digite uma sequência de números separados por espaço: \")\n",
        "numeros_lista = numeros.split()\n",
        "numeros_inteiros = [int(numero) for numero in numeros_lista]\n",
        "pares = 0\n",
        "impares = 0\n",
        "for numero in numeros_inteiros:\n",
        "    if numero % 2 == 0:\n",
        "        pares += 1\n",
        "    else:\n",
        "        impares += 1\n",
        "print(\"numeros:\", numeros_inteiros)\n",
        "print(\"Quantidade de números pares:\", pares)\n",
        "print(\"Quantidade de números ímpares:\", impares)\n",
        "\n"
      ],
      "metadata": {
        "colab": {
          "base_uri": "https://localhost:8080/"
        },
        "id": "lkRDdM92uA04",
        "outputId": "7beaac53-35df-422e-afc3-0d93b4591f20"
      },
      "execution_count": 22,
      "outputs": [
        {
          "output_type": "stream",
          "name": "stdout",
          "text": [
            "Digite uma sequência de números separados por espaço: 56 57 80 81 87 56 45\n",
            "Lista de números inteiros: [56, 57, 80, 81, 87, 56, 45]\n",
            "Quantidade de números pares: 3\n",
            "Quantidade de números ímpares: 4\n"
          ]
        }
      ]
    },
    {
      "cell_type": "markdown",
      "source": [
        "2- Adivinhe o número secreto:\n",
        "* O programa escolhe um número secreto (ex: 1 a 20)\n",
        "* O usuário tenta adivinhar.\n",
        "* Enquanto não acertar, o programa dá dicas (\"Maior\" ou \"Menor\")\n",
        "* Quando acertar, o loop acaba\n"
      ],
      "metadata": {
        "id": "E1KiXPw1xmYl"
      }
    },
    {
      "cell_type": "code",
      "source": [
        "\n",
        "import random\n",
        "numero=int(input(\"digite um numero de 1 a 20: \"))\n",
        "secreto = random.randint(1,20)\n",
        "while numero != secreto:\n",
        "  if tentativa > secreto:\n",
        "    print(\"o numero secreto e menor\")\n",
        "    tentativa=int(input(\"tente novamente: \"))\n",
        "  elif tentativa < secreto:\n",
        "    print(\"o numero secreto e maior\")\n",
        "    tentativa=int(input(\"tente novamente: \"))\n",
        "  else:\n",
        "    print('acertou')\n",
        "    break\n"
      ],
      "metadata": {
        "colab": {
          "base_uri": "https://localhost:8080/"
        },
        "id": "Q_jbrgIezQq_",
        "outputId": "f725c7f9-deca-4505-de95-21a0f5e591d7"
      },
      "execution_count": 52,
      "outputs": [
        {
          "output_type": "stream",
          "name": "stdout",
          "text": [
            "digite um numero de 1 a 20: 12\n",
            "o numero secreto e menor\n",
            "tente novamente: 11\n",
            "o numero secreto e menor\n",
            "tente novamente: 10\n",
            "o numero secreto e menor\n",
            "tente novamente: 9\n",
            "acertou\n"
          ]
        }
      ]
    },
    {
      "cell_type": "markdown",
      "source": [
        "3- Contar vogais em várias palavras\n",
        "* O usuário digita uma lista de palavras(separadas por espaço)\n",
        "* O programa deve percorrer cada palavra usando um FOR\n",
        "* Em cada palavra contar quantas vogais existem\n",
        "* mostrar no final o total de vogais em cada palavra."
      ],
      "metadata": {
        "id": "dRrbPePt3-oI"
      }
    },
    {
      "cell_type": "code",
      "source": [
        "palavras = input(\"Digite uma sequência de palavras: \")\n",
        "palavras_lista = palavras.split()\n",
        "\n",
        "for palavra in palavras_lista:\n",
        "    vogais = 0\n",
        "    for letra in palavra:\n",
        "        if letra.lower() in \"aeiou\":\n",
        "            vogais += 1\n",
        "    print(f\"A palavra '{palavra}' tem {vogais} vogais\")"
      ],
      "metadata": {
        "colab": {
          "base_uri": "https://localhost:8080/"
        },
        "id": "mcMkjFZ84kxf",
        "outputId": "fe26334a-53e4-4f8c-9d40-e28952067404"
      },
      "execution_count": 63,
      "outputs": [
        {
          "output_type": "stream",
          "name": "stdout",
          "text": [
            "Digite uma sequência de palavras: joao kaua artur laura\n",
            "A palavra 'joao' tem 3 vogais\n",
            "A palavra 'kaua' tem 3 vogais\n",
            "A palavra 'artur' tem 2 vogais\n",
            "A palavra 'laura' tem 3 vogais\n"
          ]
        }
      ]
    }
  ]
}