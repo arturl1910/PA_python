{
  "nbformat": 4,
  "nbformat_minor": 0,
  "metadata": {
    "colab": {
      "provenance": [],
      "authorship_tag": "ABX9TyNFAEPumsRJDHSQcdyrE5S8",
      "include_colab_link": true
    },
    "kernelspec": {
      "name": "python3",
      "display_name": "Python 3"
    },
    "language_info": {
      "name": "python"
    }
  },
  "cells": [
    {
      "cell_type": "markdown",
      "metadata": {
        "id": "view-in-github",
        "colab_type": "text"
      },
      "source": [
        "<a href=\"https://colab.research.google.com/github/arturl1910/PA_python/blob/main/Aula_PA_1C/operadores.ipynb\" target=\"_parent\"><img src=\"https://colab.research.google.com/assets/colab-badge.svg\" alt=\"Open In Colab\"/></a>"
      ]
    },
    {
      "cell_type": "code",
      "execution_count": 1,
      "metadata": {
        "colab": {
          "base_uri": "https://localhost:8080/"
        },
        "id": "Uic3LpHSxTxQ",
        "outputId": "886ce4d3-62d4-4b9c-b01f-81c7a5b80799"
      },
      "outputs": [
        {
          "output_type": "execute_result",
          "data": {
            "text/plain": [
              "2"
            ]
          },
          "metadata": {},
          "execution_count": 1
        }
      ],
      "source": [
        "# soma\n",
        "1+1"
      ]
    },
    {
      "cell_type": "code",
      "source": [
        "# subtraçao\n",
        "5-3"
      ],
      "metadata": {
        "colab": {
          "base_uri": "https://localhost:8080/"
        },
        "id": "UaIPTVSqx1Ld",
        "outputId": "13889377-48c0-45aa-94ce-286d025ea5da"
      },
      "execution_count": 2,
      "outputs": [
        {
          "output_type": "execute_result",
          "data": {
            "text/plain": [
              "2"
            ]
          },
          "metadata": {},
          "execution_count": 2
        }
      ]
    },
    {
      "cell_type": "code",
      "source": [
        "#multiplicação\n",
        "5*5"
      ],
      "metadata": {
        "colab": {
          "base_uri": "https://localhost:8080/"
        },
        "id": "dA1-TkLPyDBf",
        "outputId": "1987af31-9adb-493c-feb5-dbbba314c4a7"
      },
      "execution_count": 3,
      "outputs": [
        {
          "output_type": "execute_result",
          "data": {
            "text/plain": [
              "25"
            ]
          },
          "metadata": {},
          "execution_count": 3
        }
      ]
    },
    {
      "cell_type": "code",
      "source": [
        "#divisão\n",
        "6/3"
      ],
      "metadata": {
        "colab": {
          "base_uri": "https://localhost:8080/"
        },
        "id": "G_mFC6zlyWHG",
        "outputId": "6fcb2d34-0a70-4482-e320-7d4a4a78c16d"
      },
      "execution_count": 5,
      "outputs": [
        {
          "output_type": "execute_result",
          "data": {
            "text/plain": [
              "2.0"
            ]
          },
          "metadata": {},
          "execution_count": 5
        }
      ]
    },
    {
      "cell_type": "code",
      "source": [
        "#expoente\n",
        "2**3"
      ],
      "metadata": {
        "colab": {
          "base_uri": "https://localhost:8080/"
        },
        "id": "MZ5XuPSky_dR",
        "outputId": "a2d7eac9-dfd3-4c55-d1bf-6716bbca2fe7"
      },
      "execution_count": 6,
      "outputs": [
        {
          "output_type": "execute_result",
          "data": {
            "text/plain": [
              "8"
            ]
          },
          "metadata": {},
          "execution_count": 6
        }
      ]
    },
    {
      "cell_type": "code",
      "source": [
        "#expoente\n",
        "8**9"
      ],
      "metadata": {
        "colab": {
          "base_uri": "https://localhost:8080/"
        },
        "id": "YLoONd3WyrK8",
        "outputId": "1b29da90-941c-49ee-9b0b-dd081ac9cb06"
      },
      "execution_count": 8,
      "outputs": [
        {
          "output_type": "execute_result",
          "data": {
            "text/plain": [
              "134217728"
            ]
          },
          "metadata": {},
          "execution_count": 8
        }
      ]
    },
    {
      "cell_type": "markdown",
      "source": [
        "Variaveis"
      ],
      "metadata": {
        "id": "GVQsJPWgzZWV"
      }
    },
    {
      "cell_type": "code",
      "source": [
        "soma = 5+7"
      ],
      "metadata": {
        "id": "NuA47AcpzLk6"
      },
      "execution_count": 19,
      "outputs": []
    },
    {
      "cell_type": "code",
      "source": [
        "print ('soma é igual', soma)"
      ],
      "metadata": {
        "colab": {
          "base_uri": "https://localhost:8080/"
        },
        "id": "5Bkm1TME0Nl6",
        "outputId": "01cf00a4-e704-4947-dbe3-78e8f0c25811"
      },
      "execution_count": 20,
      "outputs": [
        {
          "output_type": "stream",
          "name": "stdout",
          "text": [
            "soma é igual 12\n"
          ]
        }
      ]
    },
    {
      "cell_type": "code",
      "source": [
        "soma = soma +2\n",
        "print ('A soma agora é', soma)\n"
      ],
      "metadata": {
        "colab": {
          "base_uri": "https://localhost:8080/"
        },
        "id": "vt-eamBD0wnZ",
        "outputId": "3069adca-7aa5-497f-ce5f-9e51da561787"
      },
      "execution_count": 22,
      "outputs": [
        {
          "output_type": "stream",
          "name": "stdout",
          "text": [
            "A soma agora é 16\n"
          ]
        }
      ]
    },
    {
      "cell_type": "code",
      "source": [
        "soma = soma -5\n",
        "print ('a soma agora tem', soma)"
      ],
      "metadata": {
        "colab": {
          "base_uri": "https://localhost:8080/"
        },
        "id": "oCSsZGsF15a5",
        "outputId": "dd66c079-ea0c-4edc-d94b-792ada08a5d3"
      },
      "execution_count": 23,
      "outputs": [
        {
          "output_type": "stream",
          "name": "stdout",
          "text": [
            "a soma agora tem 11\n"
          ]
        }
      ]
    },
    {
      "cell_type": "code",
      "source": [
        "soma = soma +2-5*8/3\n",
        "print('a soma agora tem', soma)"
      ],
      "metadata": {
        "colab": {
          "base_uri": "https://localhost:8080/"
        },
        "id": "ivRoaU1c2fJt",
        "outputId": "fb70f308-ac03-4496-fe48-f6836f352357"
      },
      "execution_count": 24,
      "outputs": [
        {
          "output_type": "stream",
          "name": "stdout",
          "text": [
            "a soma agora tem -0.3333333333333339\n"
          ]
        }
      ]
    },
    {
      "cell_type": "markdown",
      "source": [
        "variável"
      ],
      "metadata": {
        "id": "z9-He9ou3UNI"
      }
    },
    {
      "cell_type": "code",
      "source": [
        "soma = 45+40\n",
        "print ('a soma e igual á', soma)"
      ],
      "metadata": {
        "colab": {
          "base_uri": "https://localhost:8080/"
        },
        "id": "nWbwjIfv3iKs",
        "outputId": "39621538-cab3-4e31-ea1c-604aeb457c54"
      },
      "execution_count": 28,
      "outputs": [
        {
          "output_type": "stream",
          "name": "stdout",
          "text": [
            "a soma e igual á 85\n"
          ]
        }
      ]
    },
    {
      "cell_type": "code",
      "source": [
        "soma = soma + 5 * (45-9) / 2\n",
        "print ('a soma e igual á', soma)"
      ],
      "metadata": {
        "colab": {
          "base_uri": "https://localhost:8080/"
        },
        "id": "QkEIGZ0_5sAk",
        "outputId": "3e624960-ac7e-44b3-882a-e743952b61af"
      },
      "execution_count": 42,
      "outputs": [
        {
          "output_type": "stream",
          "name": "stdout",
          "text": [
            "a soma e igual á 152.0\n"
          ]
        }
      ]
    },
    {
      "cell_type": "code",
      "source": [
        "# calcular área do quadrado\n",
        "## entrada\n",
        "lado = float(input('digite o lado do quadrado'))\n",
        "\n",
        "##processamento\n",
        "area= lado * lado\n",
        "\n",
        "##saída\n",
        "print(' a área do quadrado é', area, 'cm2')"
      ],
      "metadata": {
        "id": "kyp9b4km6PQN"
      },
      "execution_count": null,
      "outputs": []
    },
    {
      "cell_type": "code",
      "source": [],
      "metadata": {
        "id": "U3SQueOm6j0X"
      },
      "execution_count": null,
      "outputs": []
    }
  ]
}