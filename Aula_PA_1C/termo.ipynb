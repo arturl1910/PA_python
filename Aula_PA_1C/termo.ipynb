{
  "nbformat": 4,
  "nbformat_minor": 0,
  "metadata": {
    "colab": {
      "provenance": [],
      "include_colab_link": true
    },
    "kernelspec": {
      "name": "python3",
      "display_name": "Python 3"
    },
    "language_info": {
      "name": "python"
    }
  },
  "cells": [
    {
      "cell_type": "markdown",
      "metadata": {
        "id": "view-in-github",
        "colab_type": "text"
      },
      "source": [
        "<a href=\"https://colab.research.google.com/github/arturl1910/PA_python/blob/main/Aula_PA_1C/termo.ipynb\" target=\"_parent\"><img src=\"https://colab.research.google.com/assets/colab-badge.svg\" alt=\"Open In Colab\"/></a>"
      ]
    },
    {
      "cell_type": "code",
      "execution_count": 14,
      "metadata": {
        "colab": {
          "base_uri": "https://localhost:8080/"
        },
        "id": "vST6uGkAvYCI",
        "outputId": "e2bbf1d1-fe19-41ba-bb68-9f1a11206352"
      },
      "outputs": [
        {
          "output_type": "stream",
          "name": "stdout",
          "text": [
            "Jogo do Termo - Tente adivinhar a palavra de 5 letras. Quando a letra estiver entre (), a palavra contem a letra porem nao esta no lugar certo, quando a letra estiver entre[] ela esta no lugar certo\n",
            "Você tem 6 tentativas.\n",
            "\n",
            "Digite uma palavra de 5 letras: arroz\n",
            "(a) (r) _ (o) _\n",
            "voce ainda tem  5 tentativas.\n",
            "\n",
            "Digite uma palavra de 5 letras: bravo\n",
            "_ (r) [a] _ [o]\n",
            "voce ainda tem  4 tentativas.\n",
            "\n",
            "Digite uma palavra de 5 letras: largo\n",
            "(l) (a) (r) _ [o]\n",
            "voce ainda tem  3 tentativas.\n",
            "\n",
            "Digite uma palavra de 5 letras: claro\n",
            "Parabéns!\n",
            "Você acertou a palavra: claro\n"
          ]
        }
      ],
      "source": [
        "import random\n",
        "\n",
        "palavras = [\"bravo\", \"fundo\", \"claro\", \"quase\", \"andar\", \"cheio\", \"falso\", \"pista\", \"canto\", \"largo\"]\n",
        "\n",
        "\n",
        "jogo = random.randint(0, len(palavras) - 1)\n",
        "palavra = palavras[jogo]\n",
        "\n",
        "tentativas = 6\n",
        "tamanho = len(palavra)\n",
        "\n",
        "print(\"Jogo do Termo - Tente adivinhar a palavra de 5 letras. Quando a letra estiver entre (), a palavra contem a letra porem nao esta no lugar certo, quando a letra estiver entre[] ela esta no lugar certo\")\n",
        "print(\"Você tem\", tentativas, \"tentativas.\\n\")\n",
        "\n",
        "while tentativas > 0:\n",
        "    adivinha = input(\"Digite uma palavra de 5 letras: \")\n",
        "\n",
        "    if len(adivinha) != tamanho:\n",
        "        print(\"Erro: a palavra deve ter exatamente\", tamanho, \"letras.\")\n",
        "        continue\n",
        "\n",
        "    adivinha = adivinha.lower()\n",
        "\n",
        "    if adivinha == palavra:\n",
        "        print(\"Parabéns!\")\n",
        "        print(\"Você acertou a palavra:\", palavra)\n",
        "        break\n",
        "\n",
        "    resultado = []\n",
        "    usado = []\n",
        "    for i in range(tamanho):\n",
        "        usado.append(False)\n",
        "\n",
        "\n",
        "    for i in range(tamanho):\n",
        "        if adivinha[[i] == palavra[i]:\n",
        "            resultado.append(\"[\" + adivinha [i] + \"]\")\n",
        "            usado[i] = True\n",
        "        else:\n",
        "            resultado.append(\"_\")\n",
        "\n",
        "\n",
        "    for i in range(tamanho):\n",
        "        if resultado[i] == \"_\":\n",
        "            letra = adivinha[i]\n",
        "            achou = False\n",
        "            for j in range(tamanho):\n",
        "                if usado[j] == False and palavra[j] == letra:\n",
        "                    achou = True\n",
        "                    usado[j] = True\n",
        "                    break\n",
        "            if achou:\n",
        "                resultado[i] = \"(\" + letra + \")\"\n",
        "            else:\n",
        "                resultado[i] = \"_\"\n",
        "\n",
        "    print(\" \".join(resultado))\n",
        "\n",
        "    tentativas = tentativas - 1\n",
        "    print(\"voce ainda tem \", tentativas, \"tentativas.\\n\")\n",
        "\n",
        "if tentativas == 0:\n",
        "    print(\"errou!\")\n",
        "    print(\"acabou as tentativas. A palavra era:\", palavra)\n"
      ]
    }
  ]
}