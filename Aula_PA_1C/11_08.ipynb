{
  "nbformat": 4,
  "nbformat_minor": 0,
  "metadata": {
    "colab": {
      "provenance": [],
      "authorship_tag": "ABX9TyMM9LDXsms/kNlcKxkyqGty",
      "include_colab_link": true
    },
    "kernelspec": {
      "name": "python3",
      "display_name": "Python 3"
    },
    "language_info": {
      "name": "python"
    }
  },
  "cells": [
    {
      "cell_type": "markdown",
      "metadata": {
        "id": "view-in-github",
        "colab_type": "text"
      },
      "source": [
        "<a href=\"https://colab.research.google.com/github/arturl1910/PA_python/blob/main/Aula_PA_1C/11_08.ipynb\" target=\"_parent\"><img src=\"https://colab.research.google.com/assets/colab-badge.svg\" alt=\"Open In Colab\"/></a>"
      ]
    },
    {
      "cell_type": "markdown",
      "source": [
        "nome: Artur Miguel\n",
        "Turma: Manhã\n"
      ],
      "metadata": {
        "id": "Rw6RfXUcWeBF"
      }
    },
    {
      "cell_type": "code",
      "source": [
        "nome = \"Artur Miguel\"\n",
        "Turma = \"Manhã\""
      ],
      "metadata": {
        "id": "kdUj2kIDW_YU"
      },
      "execution_count": 10,
      "outputs": []
    },
    {
      "cell_type": "code",
      "source": [
        "\n",
        "# Exercício 2 -Apos inserir dados acima usando o slicing (exemplo no notebook de manipulação de Strings), imprima na tela apenas seu sobrenome\n",
        "print(nome[5::])"
      ],
      "metadata": {
        "colab": {
          "base_uri": "https://localhost:8080/"
        },
        "id": "UPXpPP6kYDJ8",
        "outputId": "5f2dff75-c5ef-43e9-e6be-a0ae42bc0932"
      },
      "execution_count": 11,
      "outputs": [
        {
          "output_type": "stream",
          "name": "stdout",
          "text": [
            " Miguel\n"
          ]
        }
      ]
    },
    {
      "cell_type": "code",
      "source": [
        "# Exercício 3 -  imprima seu nome de trás pra frente\n",
        "print(nome[::-1])"
      ],
      "metadata": {
        "colab": {
          "base_uri": "https://localhost:8080/"
        },
        "id": "0Jh_MUyDYJzR",
        "outputId": "f05cf738-372b-4b9a-da13-4af0c8db2bec"
      },
      "execution_count": 14,
      "outputs": [
        {
          "output_type": "stream",
          "name": "stdout",
          "text": [
            "leugiM rutrA\n"
          ]
        }
      ]
    },
    {
      "cell_type": "code",
      "source": [
        "\n",
        "# Exercício 4 - pegue a frase abaixo, aplique o split para fazer uma quebra toda vez que encontrar uma \",\"\n",
        "frase = \"Python é a linguagem ideal para o primeiro contato com programação, além da sua sintaxe simples e muito poderosa, Python tem diversas aplicações como: desenvolvimento web, análise de dados, inteligência artificial e automatização de tarefas, neste curso você aprenderá a lógica de programação para conquistar fluência na linguagem, a comunidade Python é a que mais cresce, assim como sua demanda de profissionais no mercado.\"\n",
        "frase.split(',')"
      ],
      "metadata": {
        "colab": {
          "base_uri": "https://localhost:8080/"
        },
        "id": "mVykWXuCYUT2",
        "outputId": "afb62e9d-a57c-4073-eade-1fb3e887c5d5"
      },
      "execution_count": 12,
      "outputs": [
        {
          "output_type": "execute_result",
          "data": {
            "text/plain": [
              "['Python é a linguagem ideal para o primeiro contato com programação',\n",
              " ' além da sua sintaxe simples e muito poderosa',\n",
              " ' Python tem diversas aplicações como: desenvolvimento web',\n",
              " ' análise de dados',\n",
              " ' inteligência artificial e automatização de tarefas',\n",
              " ' neste curso você aprenderá a lógica de programação para conquistar fluência na linguagem',\n",
              " ' a comunidade Python é a que mais cresce',\n",
              " ' assim como sua demanda de profissionais no mercado.']"
            ]
          },
          "metadata": {},
          "execution_count": 12
        }
      ]
    },
    {
      "cell_type": "code",
      "source": [
        "lista={1,2,3,4,5,6,7,8,9,10}\n",
        "for lista in lista:\n",
        "  print(lista)\n"
      ],
      "metadata": {
        "colab": {
          "base_uri": "https://localhost:8080/"
        },
        "id": "-mfaooZacAmZ",
        "outputId": "78594f6e-2a28-4fd1-8cc9-b52904db91b2"
      },
      "execution_count": 49,
      "outputs": [
        {
          "output_type": "stream",
          "name": "stdout",
          "text": [
            "1\n",
            "2\n",
            "3\n",
            "4\n",
            "5\n",
            "6\n",
            "7\n",
            "8\n",
            "9\n",
            "10\n"
          ]
        }
      ]
    },
    {
      "cell_type": "code",
      "source": [
        "# Exercício 6 - Crie uma lista de 5 objetos e imprima na tela\n",
        "objetos=['lapis, borracha, apontador, mouse, computador']"
      ],
      "metadata": {
        "id": "vljEQwGscJGp"
      },
      "execution_count": 21,
      "outputs": []
    },
    {
      "cell_type": "code",
      "source": [
        "for objetos in objetos:\n",
        "  print(objetos)"
      ],
      "metadata": {
        "colab": {
          "base_uri": "https://localhost:8080/"
        },
        "id": "pQ6YQXq9cdD9",
        "outputId": "a4a8f6a0-3365-40aa-eb83-bbdae2051ace"
      },
      "execution_count": 40,
      "outputs": [
        {
          "output_type": "stream",
          "name": "stdout",
          "text": [
            "lapis, borracha, apontador, mouse, computador\n"
          ]
        }
      ]
    },
    {
      "cell_type": "code",
      "source": [
        "# Exercício 7 - - Crie duas strings e concatene as duas em uma terceira string\n",
        "s = 'santos'"
      ],
      "metadata": {
        "id": "_6Tu3LfccilL"
      },
      "execution_count": 38,
      "outputs": []
    },
    {
      "cell_type": "code",
      "source": [
        "s +  ' botafogo '"
      ],
      "metadata": {
        "colab": {
          "base_uri": "https://localhost:8080/",
          "height": 36
        },
        "id": "UPfL7iEjeQH-",
        "outputId": "99b0882a-0be4-433c-be86-bf01153dd356"
      },
      "execution_count": 42,
      "outputs": [
        {
          "output_type": "execute_result",
          "data": {
            "text/plain": [
              "'santos botafogo '"
            ],
            "application/vnd.google.colaboratory.intrinsic+json": {
              "type": "string"
            }
          },
          "metadata": {},
          "execution_count": 42
        }
      ]
    },
    {
      "cell_type": "code",
      "source": [
        "s1 = 'flamengo'"
      ],
      "metadata": {
        "id": "w4uVsKyQeVHY"
      },
      "execution_count": 44,
      "outputs": []
    },
    {
      "cell_type": "code",
      "source": [
        "s= s+ ' botafogo '"
      ],
      "metadata": {
        "id": "QDWdTtMUfcnN"
      },
      "execution_count": 46,
      "outputs": []
    },
    {
      "cell_type": "code",
      "source": [
        "print (s)"
      ],
      "metadata": {
        "colab": {
          "base_uri": "https://localhost:8080/"
        },
        "id": "_U9u-lp_fnlQ",
        "outputId": "dcb2d33f-d800-42f7-8b3a-d9baced4177f"
      },
      "execution_count": 47,
      "outputs": [
        {
          "output_type": "stream",
          "name": "stdout",
          "text": [
            "santos botafogo \n"
          ]
        }
      ]
    },
    {
      "cell_type": "code",
      "source": [
        "# Exercício 8 - Crie uma tupla com os seguintes elementos: 1, 2, 2, 3, 4, 4, 4, 5 e depois utilize a função count do\n",
        "# objeto tupla para verificar quantas vezes o número 4 aparece na tupla\n",
        "tupla = (1, 2, 2, 3, 4, 4, 4, 5)\n",
        "tupla.count(4)\n"
      ],
      "metadata": {
        "colab": {
          "base_uri": "https://localhost:8080/"
        },
        "id": "2tevKz8ofuBV",
        "outputId": "7432072d-a20c-4bd0-9d78-f3c87f1763b4"
      },
      "execution_count": 48,
      "outputs": [
        {
          "output_type": "execute_result",
          "data": {
            "text/plain": [
              "3"
            ]
          },
          "metadata": {},
          "execution_count": 48
        }
      ]
    },
    {
      "cell_type": "markdown",
      "source": [
        "Dicionario"
      ],
      "metadata": {
        "id": "fwrWnhCwq-jW"
      }
    },
    {
      "cell_type": "code",
      "source": [
        "meudicionario={\n",
        "\n",
        "}"
      ],
      "metadata": {
        "id": "dkokLpQmjaOr"
      },
      "execution_count": 92,
      "outputs": []
    },
    {
      "cell_type": "code",
      "source": [
        "# Exercício 10 - Crie um dicionário com 3 chaves e 3 valores e imprima na tela\n",
        "meudicionario={\n",
        "    \"nome\":\"artur\",\n",
        "    \"idade\":\"15\",\n",
        "    \"notas\":\"10, 9, 8\"\n",
        "}\n",
        "\n",
        "print(meudicionario)\n"
      ],
      "metadata": {
        "colab": {
          "base_uri": "https://localhost:8080/"
        },
        "id": "dBg1tfEYjp0F",
        "outputId": "1119989e-c6a1-4dd8-e618-967d8f018226"
      },
      "execution_count": 66,
      "outputs": [
        {
          "output_type": "stream",
          "name": "stdout",
          "text": [
            "{'nome': 'artur', 'idade': '15', 'notas': '10, 9, 8'}\n"
          ]
        }
      ]
    },
    {
      "cell_type": "code",
      "source": [
        "meudicionario[\"time\"]=\"guarani\""
      ],
      "metadata": {
        "id": "SGOYheS2mKoq"
      },
      "execution_count": 70,
      "outputs": []
    },
    {
      "cell_type": "code",
      "source": [
        "# Exercício 11 - Adicione mais um elemento ao dicionário criado no exercício anterior e imprima na tela\n",
        "print(meudicionario)"
      ],
      "metadata": {
        "colab": {
          "base_uri": "https://localhost:8080/"
        },
        "id": "u99_VIKRmdGa",
        "outputId": "92291812-593a-4361-d7d5-fcb6df4bbd93"
      },
      "execution_count": 71,
      "outputs": [
        {
          "output_type": "stream",
          "name": "stdout",
          "text": [
            "{'nome': 'artur', 'idade': '15', 'notas': '10, 9, 8', 'time': 'guarani'}\n"
          ]
        }
      ]
    },
    {
      "cell_type": "code",
      "source": [
        "# Exercício 12 - Crie um dicionário com 3 chaves e 3 valores. Um dos valores deve ser uma lista de 2 elementos numéricos.\n",
        "dicionario={\n",
        "    \"nome\":\"artur\",\n",
        "    \"idade\":\"15\",\n",
        "    \"aniversário\":\"30,07\"\n",
        "}"
      ],
      "metadata": {
        "id": "fuQFiYClmrbe"
      },
      "execution_count": 73,
      "outputs": []
    },
    {
      "cell_type": "code",
      "source": [
        "print(dicionario)"
      ],
      "metadata": {
        "colab": {
          "base_uri": "https://localhost:8080/"
        },
        "id": "5-8B0r26nWDK",
        "outputId": "64be8a92-7014-404c-e359-a89f0de69a25"
      },
      "execution_count": 75,
      "outputs": [
        {
          "output_type": "stream",
          "name": "stdout",
          "text": [
            "{'nome': 'artur', 'idade': '15', 'aniversário': '30,07'}\n"
          ]
        }
      ]
    },
    {
      "cell_type": "code",
      "source": [
        "\n",
        "# Exercício 13 - Crie uma lista de 4 elementos. O primeiro elemento deve ser uma string,\n",
        "# o segundo uma tupla de 2 elementos, o terceiro um dcionário com 2 chaves e 2 valores e\n",
        "# o quarto elemento um valor do tipo float.\n",
        "lista = [\n",
        "    \"Olá\",\n",
        "    (10, 20),\n",
        "    {\"nome\": \"Be\", \"idade\": 36},\n",
        "    3.14\n",
        "]\n"
      ],
      "metadata": {
        "id": "9XvMSk8jnjx2"
      },
      "execution_count": 83,
      "outputs": []
    },
    {
      "cell_type": "code",
      "source": [
        "print(lista)"
      ],
      "metadata": {
        "colab": {
          "base_uri": "https://localhost:8080/"
        },
        "id": "e01q7jz3qK-C",
        "outputId": "d2a35600-e5ec-4d2a-d1c6-3b05b8cba708"
      },
      "execution_count": 84,
      "outputs": [
        {
          "output_type": "stream",
          "name": "stdout",
          "text": [
            "['Olá', (10, 20), {'nome': 'Be', 'idade': 36}, 3.14]\n"
          ]
        }
      ]
    },
    {
      "cell_type": "code",
      "source": [
        "# Exercício 14 - Considere a string abaixo. Imprima na tela apenas os caracteres da posição 1 a 18.\n",
        "frase = 'Cientista de Dados é o profissional mais legal do século XXI'\n",
        "print(frase[1:18])\n",
        ""
      ],
      "metadata": {
        "colab": {
          "base_uri": "https://localhost:8080/"
        },
        "id": "GdAUCS2pqOL1",
        "outputId": "91ec34e6-faa3-42f9-e0e0-02131a2d3bb3"
      },
      "execution_count": 85,
      "outputs": [
        {
          "output_type": "stream",
          "name": "stdout",
          "text": [
            "ientista de Dados\n"
          ]
        }
      ]
    },
    {
      "cell_type": "markdown",
      "source": [
        "Exercícios de Manipulação de Strings"
      ],
      "metadata": {
        "id": "XPXFXQ26qf6m"
      }
    },
    {
      "cell_type": "code",
      "source": [
        "# 1 - Use o método len para imprimir o comprimento da string.\n",
        "x = \"Hello World\"\n",
        "print(len(x))"
      ],
      "metadata": {
        "colab": {
          "base_uri": "https://localhost:8080/"
        },
        "id": "wPSP5-rYqgxV",
        "outputId": "c58b0ae1-cf1b-4e3b-db90-4c7d5408fa61"
      },
      "execution_count": 86,
      "outputs": [
        {
          "output_type": "stream",
          "name": "stdout",
          "text": [
            "11\n"
          ]
        }
      ]
    },
    {
      "cell_type": "code",
      "source": [
        "# 2 - Obtenha o primeiro caractere da string txt.\n",
        "txt = \"Hello World\"\n",
        "x = txt[0]\n",
        "print(x)"
      ],
      "metadata": {
        "colab": {
          "base_uri": "https://localhost:8080/"
        },
        "id": "OlSxIdNlqkcX",
        "outputId": "839edcea-01eb-43ce-aa9f-f0b680c37e55"
      },
      "execution_count": 87,
      "outputs": [
        {
          "output_type": "stream",
          "name": "stdout",
          "text": [
            "H\n"
          ]
        }
      ]
    },
    {
      "cell_type": "code",
      "source": [
        "# 3 - Obtenha os caracteres do índice 2 ao índice 4 ( llo).\n",
        "txt = \"Hello World\"\n",
        "x = txt[2:5]\n",
        "print(x)"
      ],
      "metadata": {
        "colab": {
          "base_uri": "https://localhost:8080/"
        },
        "id": "pS4n8pBmqolT",
        "outputId": "a0fd1d7e-7009-4bc5-9e90-a7a14fff458f"
      },
      "execution_count": 88,
      "outputs": [
        {
          "output_type": "stream",
          "name": "stdout",
          "text": [
            "llo\n"
          ]
        }
      ]
    },
    {
      "cell_type": "code",
      "source": [
        "# 4 - Converta o valor de txt para maiúsculas.\n",
        "txt = \"Hello World\"\n",
        "x = txt.upper()\n",
        "print(x)"
      ],
      "metadata": {
        "colab": {
          "base_uri": "https://localhost:8080/"
        },
        "id": "3TroUx8JqroE",
        "outputId": "b4c7201f-5d76-4ba0-b12b-9953c022a16d"
      },
      "execution_count": 89,
      "outputs": [
        {
          "output_type": "stream",
          "name": "stdout",
          "text": [
            "HELLO WORLD\n"
          ]
        }
      ]
    },
    {
      "cell_type": "code",
      "source": [
        "# 5 - Conte quantas vezes aparece a palavra \"de\" na string abaixo\n",
        "txt = \"Eu gosto de vijar, tomar vinho, de estudar estudar programação, de estudar Pyhon\"\n",
        "txt.count('de')"
      ],
      "metadata": {
        "colab": {
          "base_uri": "https://localhost:8080/"
        },
        "id": "Hzpolb2fqu7n",
        "outputId": "b03d60bb-354c-4fc4-9b00-5a67bdf0080f"
      },
      "execution_count": 90,
      "outputs": [
        {
          "output_type": "execute_result",
          "data": {
            "text/plain": [
              "3"
            ]
          },
          "metadata": {},
          "execution_count": 90
        }
      ]
    },
    {
      "cell_type": "code",
      "source": [
        "# 6 - Separe a frase abaixo toda vez que encontrar um vírgula\n",
        "txt = \"Eu gosto de vijar, tomar vinho, de estudar estudar programação, de estudar Pyhon\"\n",
        "txt.split(',')"
      ],
      "metadata": {
        "colab": {
          "base_uri": "https://localhost:8080/"
        },
        "id": "mxVkcAjNqyFO",
        "outputId": "e3d44768-a3f2-4996-c569-e6a39eb0144b"
      },
      "execution_count": 91,
      "outputs": [
        {
          "output_type": "execute_result",
          "data": {
            "text/plain": [
              "['Eu gosto de vijar',\n",
              " ' tomar vinho',\n",
              " ' de estudar estudar programação',\n",
              " ' de estudar Pyhon']"
            ]
          },
          "metadata": {},
          "execution_count": 91
        }
      ]
    }
  ]
}