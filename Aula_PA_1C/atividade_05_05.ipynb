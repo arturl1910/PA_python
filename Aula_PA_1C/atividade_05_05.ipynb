{
  "nbformat": 4,
  "nbformat_minor": 0,
  "metadata": {
    "colab": {
      "provenance": [],
      "authorship_tag": "ABX9TyPrLjDwZ3gNgmAhcEwb89JT",
      "include_colab_link": true
    },
    "kernelspec": {
      "name": "python3",
      "display_name": "Python 3"
    },
    "language_info": {
      "name": "python"
    }
  },
  "cells": [
    {
      "cell_type": "markdown",
      "metadata": {
        "id": "view-in-github",
        "colab_type": "text"
      },
      "source": [
        "<a href=\"https://colab.research.google.com/github/arturl1910/PA_python/blob/main/Aula_PA_1C/atividade_05_05.ipynb\" target=\"_parent\"><img src=\"https://colab.research.google.com/assets/colab-badge.svg\" alt=\"Open In Colab\"/></a>"
      ]
    },
    {
      "cell_type": "code",
      "execution_count": 27,
      "metadata": {
        "colab": {
          "base_uri": "https://localhost:8080/"
        },
        "id": "9G7nt6YBqXAk",
        "outputId": "f4dbc0fa-bf16-4bbc-d1fb-7203c4f1065f"
      },
      "outputs": [
        {
          "output_type": "stream",
          "name": "stdout",
          "text": [
            "digite a idade 1: 89\n",
            "digite a idade 2: 70\n",
            "True\n",
            "False\n",
            "a idade1 será maior que a idade2 ? True\n"
          ]
        }
      ],
      "source": [
        "##entrada\n",
        "idade1=int(input(\"digite a idade 1: \"))\n",
        "idade2=int(input(\"digite a idade 2: \"))\n",
        "\n",
        "##processamento\n",
        "idade1=(idade1 > idade2)\n",
        "print(idade1)\n",
        "\n",
        "idade2=(idade2 < idade1)\n",
        "print(idade2)\n",
        "\n",
        "##saida\n",
        "print(\"a idade1 será maior que a idade2 ?\", idade1)\n",
        "\n",
        "\n"
      ]
    },
    {
      "cell_type": "code",
      "source": [
        "##entrada\n",
        "idade=int(input(\"digite sua idade\"))\n",
        "senha=int(input(\"digite a senha\"))\n",
        "\n",
        "##processamento\n",
        "pode = idade>=18 and senha==1234\n",
        "\n",
        "\n",
        "##saída\n",
        "print(\"pode acessar sistema ?\", pode)"
      ],
      "metadata": {
        "colab": {
          "base_uri": "https://localhost:8080/"
        },
        "id": "o8wrEgLcqgM6",
        "outputId": "ef7f38c4-fd6e-44f9-c4be-7f32b7b26d68"
      },
      "execution_count": 44,
      "outputs": [
        {
          "output_type": "stream",
          "name": "stdout",
          "text": [
            "digite sua idade67\n",
            "digite a senha7890\n",
            "pode acessar sistema ? False\n"
          ]
        }
      ]
    },
    {
      "cell_type": "code",
      "source": [
        "##entrada\n",
        "numero=int(input(\"digite o número\"))\n",
        "\n",
        "##processamento\n",
        "esta=numero<10 or numero>50\n",
        "\n",
        "##saída\n",
        "print(\"o numero nao está entre 10 e 50 ?\", esta)"
      ],
      "metadata": {
        "colab": {
          "base_uri": "https://localhost:8080/"
        },
        "id": "8QuhPEVkwBSz",
        "outputId": "11742199-e8f7-4961-e22f-a93f90d4cfa6"
      },
      "execution_count": 65,
      "outputs": [
        {
          "output_type": "stream",
          "name": "stdout",
          "text": [
            "digite o número67\n",
            "o numero nao está entre 10 e 50 ? True\n"
          ]
        }
      ]
    },
    {
      "cell_type": "code",
      "source": [
        "##entrada\n",
        "preço=float(input(\"digite o preço \"))\n",
        "saldo=float(input(\"digite o saldo \"))\n",
        "digite=int(input(\"digite o cupom \"))\n",
        "\n",
        "##processamento\n",
        "pode= preço<=saldo\n",
        "print(pode)\n",
        "cupom=digite==1234 and preço>=saldo\n",
        "print(cupom)\n",
        "\n",
        "\n",
        "##saida\n",
        "print(\"pode comprar o produto com o saldo ?\", pode)\n",
        "print(\"pode comprar o produto com o cupom ?\", cupom)\n",
        "\n"
      ],
      "metadata": {
        "colab": {
          "base_uri": "https://localhost:8080/"
        },
        "id": "Izyk81ONxh-S",
        "outputId": "2769aab1-605a-45bb-d6d3-6f5a494aab40"
      },
      "execution_count": 64,
      "outputs": [
        {
          "output_type": "stream",
          "name": "stdout",
          "text": [
            "digite o preço 34\n",
            "digite o dinheiro 20\n",
            "digite o cupom 1234\n",
            "False\n",
            "True\n",
            "pode comprar o produto ? False\n",
            "pode comprar o produto com o cupom ? True\n"
          ]
        }
      ]
    },
    {
      "cell_type": "code",
      "source": [
        "##entrada\n",
        "numero=int(input(\" digite o numero\"))\n",
        "\n",
        "##processamento\n",
        "par=numero%2==0\n",
        "print(par)\n",
        "\n",
        "positivo=numero>0\n",
        "print(positivo)\n",
        "\n",
        "##saida\n",
        "print(\"o numero é par ?\", par)\n",
        "print(\"o numero é positivo ?\" , positivo)"
      ],
      "metadata": {
        "colab": {
          "base_uri": "https://localhost:8080/"
        },
        "id": "rw6Q0_R8yaiv",
        "outputId": "74b90fdb-a007-4dc9-e9ad-c7c48aac9860"
      },
      "execution_count": 68,
      "outputs": [
        {
          "output_type": "stream",
          "name": "stdout",
          "text": [
            " digite o numero-8\n",
            "True\n",
            "False\n",
            "o numero é par ? True\n",
            "o numero é positivo ? False\n"
          ]
        }
      ]
    },
    {
      "cell_type": "code",
      "source": [
        "##entrada\n",
        "idade=int(input(\"digite a idade\"))\n",
        "\n",
        "##processamento\n",
        "esta=idade>=13 and idade<=17\n",
        "\n",
        "##saida\n",
        "print(\"a pessoa tem entre 13 a 17 anos ?\", esta)"
      ],
      "metadata": {
        "colab": {
          "base_uri": "https://localhost:8080/"
        },
        "id": "EpAjFJmj70_g",
        "outputId": "1f87e259-5498-4dc9-eaf5-2cd4bfd89994"
      },
      "execution_count": 86,
      "outputs": [
        {
          "output_type": "stream",
          "name": "stdout",
          "text": [
            "digite a idade15\n",
            "a pessoa tem entre 13 a 17 anos ? True\n"
          ]
        }
      ]
    },
    {
      "cell_type": "code",
      "source": [
        "##entrada\n",
        "adm=int(input('digite 1 se voce é adm ? ' ))\n",
        "senha=int(input('digite a senha ' ))\n",
        "\n",
        "##processamento\n",
        "adm==1\n",
        "senha = senha==1234\n",
        "\n",
        "##saida\n",
        "print(\"pode acessar o sistema ?\", senha)"
      ],
      "metadata": {
        "colab": {
          "base_uri": "https://localhost:8080/"
        },
        "id": "Ee64n8Rb8qBH",
        "outputId": "50161b79-5ca2-4fe1-b377-08b1fc66fddc"
      },
      "execution_count": 85,
      "outputs": [
        {
          "output_type": "stream",
          "name": "stdout",
          "text": [
            "digite 1 se voce é adm ? 2\n",
            "digite a senha 1234\n",
            "pode acessar o sistema ? True\n"
          ]
        }
      ]
    },
    {
      "cell_type": "code",
      "source": [
        "##entrada\n",
        "nota=float(input(\"digite a nota \"))\n",
        "presente=int(input(\"digite 1 se esta presente \"))\n",
        "\n",
        "##processamento\n",
        "aprovado=nota>=6\n",
        "presente==1\n",
        "\n",
        "##saida\n",
        "print(\"o aluno foi aprovado ?\", aprovado)\n"
      ],
      "metadata": {
        "colab": {
          "base_uri": "https://localhost:8080/"
        },
        "id": "-8lKW-IR-blf",
        "outputId": "fe32cc31-6343-4ec5-8bc9-ef7fc78b2a3b"
      },
      "execution_count": 87,
      "outputs": [
        {
          "output_type": "stream",
          "name": "stdout",
          "text": [
            "digite a nota 3\n",
            "digite 1 se esta presente 2\n",
            "o aluno foi aprovado ? False\n"
          ]
        }
      ]
    },
    {
      "cell_type": "code",
      "source": [
        "##entrada\n",
        "velocidade=float(input(\"digite a sua velocidade \"))\n",
        "\n",
        "##processamento\n",
        "limite=80\n",
        "multa=velocidade>limite\n",
        "\n",
        "##saida\n",
        "print(\"voce foi multado ?\", multa)"
      ],
      "metadata": {
        "colab": {
          "base_uri": "https://localhost:8080/"
        },
        "id": "8J0Y3ubK_l8B",
        "outputId": "7e8c9093-6b0b-44ba-f0cd-b480c103ab83"
      },
      "execution_count": 88,
      "outputs": [
        {
          "output_type": "stream",
          "name": "stdout",
          "text": [
            "digite a sua velocidade 60\n",
            "voce foi multado ? False\n"
          ]
        }
      ]
    },
    {
      "cell_type": "code",
      "source": [
        "##entrada\n",
        "convite=int(input(\"digite 10 se voce tem o convite \"))\n",
        "idade=int(input(\"digite a sua idade \"))\n",
        "\n",
        "##processamento\n",
        "convite==10\n",
        "idade= idade>=18\n",
        "\n",
        "#saida\n",
        "print(\"pode entrar no evento ?\", idade)\n",
        "\n"
      ],
      "metadata": {
        "colab": {
          "base_uri": "https://localhost:8080/"
        },
        "id": "9miDoXFeAJJE",
        "outputId": "c55d448b-46a4-4416-ae04-526d5af4cc88"
      },
      "execution_count": 94,
      "outputs": [
        {
          "output_type": "stream",
          "name": "stdout",
          "text": [
            "digite 10 se voce tem o convite10\n",
            "digite a sua idade17\n",
            "pode entrar no evento ? False\n"
          ]
        }
      ]
    }
  ]
}