{
  "nbformat": 4,
  "nbformat_minor": 0,
  "metadata": {
    "colab": {
      "provenance": [],
      "authorship_tag": "ABX9TyOC+1xlN4a29zzYqFEyksei",
      "include_colab_link": true
    },
    "kernelspec": {
      "name": "python3",
      "display_name": "Python 3"
    },
    "language_info": {
      "name": "python"
    }
  },
  "cells": [
    {
      "cell_type": "markdown",
      "metadata": {
        "id": "view-in-github",
        "colab_type": "text"
      },
      "source": [
        "<a href=\"https://colab.research.google.com/github/arturl1910/PA_python/blob/main/Aula_PA_1C/exerc%C3%ADcios_usando_if.ipynb\" target=\"_parent\"><img src=\"https://colab.research.google.com/assets/colab-badge.svg\" alt=\"Open In Colab\"/></a>"
      ]
    },
    {
      "cell_type": "code",
      "execution_count": 11,
      "metadata": {
        "colab": {
          "base_uri": "https://localhost:8080/"
        },
        "id": "fDcjKv_f3gIC",
        "outputId": "dee86be3-cee7-4379-bee6-a5a72cd47e2b"
      },
      "outputs": [
        {
          "output_type": "stream",
          "name": "stdout",
          "text": [
            "digite o ano: 2024\n",
            "o ano é bissexto\n"
          ]
        }
      ],
      "source": [
        "##entrada\n",
        "ano=int(input(\"digite o ano: \"))\n",
        "#processamento\n",
        "if ano % 4 == 0 and ano % 100 != 0 or ano % 400 == 0:\n",
        "  print(\"o ano é bissexto\")\n",
        "else:\n",
        "  print(\"o ano não é bissexto\")"
      ]
    },
    {
      "cell_type": "code",
      "source": [
        "##entrada\n",
        "idade=int(input(\"digite sua idade: \"))\n",
        "#processamento\n",
        "if idade >= 18 and idade<=30:\n",
        "  print(\"pode participar do grupo da mocidade\")\n",
        "elif idade>=12 and idade<=17:\n",
        "  print(\"participa do grupo de adolescentes\")\n",
        "elif idade>=0 and idade<=11:\n",
        "  print(\"participa do grupo de crianças\")\n",
        "else:\n",
        "  print(\"participa do grupo de adultos\")"
      ],
      "metadata": {
        "colab": {
          "base_uri": "https://localhost:8080/"
        },
        "id": "ueIGRCQ86fUB",
        "outputId": "1f362ebb-309d-441d-8031-50c3ebece093"
      },
      "execution_count": 27,
      "outputs": [
        {
          "output_type": "stream",
          "name": "stdout",
          "text": [
            "digite sua idade: 45\n",
            "participa do grupo de adultos\n"
          ]
        }
      ]
    },
    {
      "cell_type": "code",
      "source": [
        "##entrada\n",
        "numero=int(input(\"digite um numero: \"))\n",
        "#processamento\n",
        "if numero>=10 and numero<=77:\n",
        "  print(\"faz parte da sequência \")\n",
        "else:\n",
        "  print(\"não faz parte da sequência \")"
      ],
      "metadata": {
        "colab": {
          "base_uri": "https://localhost:8080/"
        },
        "id": "eA4V1clr8rvJ",
        "outputId": "36cadef3-2177-416b-b486-bab7226bf1c7"
      },
      "execution_count": 24,
      "outputs": [
        {
          "output_type": "stream",
          "name": "stdout",
          "text": [
            "digite um numero: 5\n",
            "não faz parte da sequência \n"
          ]
        }
      ]
    },
    {
      "cell_type": "code",
      "source": [
        "##entrada\n",
        "numero=int(input(\"digite um numero: \"))\n",
        "#processamento\n",
        "if numero%2==0:\n",
        "  print(\"o numero é par\")\n",
        "else:\n",
        "  print(\"o numero é impar\")\n"
      ],
      "metadata": {
        "colab": {
          "base_uri": "https://localhost:8080/"
        },
        "id": "bcbWp9H3A-Yr",
        "outputId": "eab34be8-23b5-46c4-f2c4-51403d7df145"
      },
      "execution_count": 28,
      "outputs": [
        {
          "output_type": "stream",
          "name": "stdout",
          "text": [
            "digite um numero: 7\n",
            "o numero é impar\n"
          ]
        }
      ]
    },
    {
      "cell_type": "code",
      "source": [
        "##entrada\n",
        "L1=int(input(\"digite o tres lado do triangulo, digite o lado  do l1 \"))\n",
        "L2=int(input(\"digite o lado do L2 \"))\n",
        "L3=int(input(\"digite o lado do L3 \"))\n",
        "##processamento\n",
        "if L1+L2>L3 and L1+L3>L2 and L2+L3>L1:\n",
        "  print(\"triangulo\")\n",
        "elif L1==L2==L3:\n",
        "  print(\"equilatero\")\n",
        "elif L1==L2 or L1==L3 or L2==L3:\n",
        "  print(\"isoceles\")\n",
        "else:\n",
        "  print(\"escaleno\")"
      ],
      "metadata": {
        "colab": {
          "base_uri": "https://localhost:8080/"
        },
        "id": "L10EhSR5B91p",
        "outputId": "70c43246-0822-4c8f-f429-ecdcc8824971"
      },
      "execution_count": 29,
      "outputs": [
        {
          "output_type": "stream",
          "name": "stdout",
          "text": [
            "digite o tres lado do triangulo, digite o lado  do l1 3\n",
            "digite o lado do L2 2\n",
            "digite o lado do L3 5\n",
            "escaleno\n"
          ]
        }
      ]
    },
    {
      "cell_type": "code",
      "source": [
        "##entrada\n",
        "peso=float(input(\"digite o peso (em kg) \"))\n",
        "altura=float(input(\"digite a altura (em metro) \"))\n",
        "##processamento\n",
        "imc=peso/(altura**2)\n",
        "\n",
        "if peso/(altura**2)<18.5:\n",
        "  print(\"abaixo do peso\")\n",
        "elif peso/(altura**2)>=18.5 and peso/(altura**2)<=24.9:\n",
        "  print(\"peso normal\")\n",
        "elif peso/(altura**2)>=25 and peso/(altura**2)<=29.9:\n",
        "  print(\"sobre peso\")\n",
        "elif peso/(altura**2)>=30 and peso/(altura**2)<=34.9:\n",
        "  print(\"obesidade grau 1\")\n",
        "elif peso/(altura**2)>=35 and peso/(altura**2)<=39.9:\n",
        "  print(\"obesidade grau 2\")\n",
        "else:\n",
        "  print(\"obesidade grau 3\")\n"
      ],
      "metadata": {
        "colab": {
          "base_uri": "https://localhost:8080/"
        },
        "id": "2PkKmOBAC6zt",
        "outputId": "02b70a31-1e4f-4129-99d6-a7ee86701cee"
      },
      "execution_count": 48,
      "outputs": [
        {
          "output_type": "stream",
          "name": "stdout",
          "text": [
            "digite o peso (em kg) 80\n",
            "digite a altura (em metro) 1.80\n",
            "peso normal\n"
          ]
        }
      ]
    },
    {
      "cell_type": "code",
      "source": [
        "##entrada\n",
        "altura=float(input(\"digite a altura \"))\n",
        "idade=int(input(\"digite a idade \"))\n",
        "##processamento\n",
        "if altura>=1.75 and idade>=18:\n",
        "  print(\"pode competir\")\n",
        "else:\n",
        "  print(\"não pode competir\")"
      ],
      "metadata": {
        "colab": {
          "base_uri": "https://localhost:8080/"
        },
        "id": "9g6TDgctDnHu",
        "outputId": "4377dba7-6c4c-4f8b-ccdb-3907868a99c0"
      },
      "execution_count": 49,
      "outputs": [
        {
          "output_type": "stream",
          "name": "stdout",
          "text": [
            "digite a altura 1.80\n",
            "digite a idade 17\n",
            "não pode competir\n"
          ]
        }
      ]
    },
    {
      "cell_type": "code",
      "source": [
        "##entrada\n",
        "salario = float(input(\"digite o salario \"))\n",
        "emprestimo = float(input(\"digite o valor do emprestimo \"))\n",
        "parcelas = int(input(\"digite a quantidade de parcelas \"))\n",
        "##processamento\n",
        "salario*0.3\n",
        "emprestimo/parcelas\n",
        "if salario*0.3>=emprestimo/parcelas:\n",
        "  print(\"pode fazer o emprestimo\")\n",
        "else:\n",
        "  print(\"não pode fazer o emprestimo\")"
      ],
      "metadata": {
        "colab": {
          "base_uri": "https://localhost:8080/"
        },
        "id": "Ci_5YV5JE5Zu",
        "outputId": "ce437016-360a-4167-9c47-fca212f1d72c"
      },
      "execution_count": 52,
      "outputs": [
        {
          "output_type": "stream",
          "name": "stdout",
          "text": [
            "digite o salario 1000\n",
            "digite o valor do emprestimo 700\n",
            "digite a quantidade de parcelas 2\n",
            "não pode fazer o emprestimo\n"
          ]
        }
      ]
    }
  ]
}