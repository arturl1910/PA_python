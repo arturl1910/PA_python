{
  "nbformat": 4,
  "nbformat_minor": 0,
  "metadata": {
    "colab": {
      "provenance": [],
      "authorship_tag": "ABX9TyOihZZqLcz2sfrvoqDcBLTI",
      "include_colab_link": true
    },
    "kernelspec": {
      "name": "python3",
      "display_name": "Python 3"
    },
    "language_info": {
      "name": "python"
    }
  },
  "cells": [
    {
      "cell_type": "markdown",
      "metadata": {
        "id": "view-in-github",
        "colab_type": "text"
      },
      "source": [
        "<a href=\"https://colab.research.google.com/github/arturl1910/PA_python/blob/main/Aula_PA_1C/exerc%C3%ADcios_usando_if.ipynb\" target=\"_parent\"><img src=\"https://colab.research.google.com/assets/colab-badge.svg\" alt=\"Open In Colab\"/></a>"
      ]
    },
    {
      "cell_type": "code",
      "execution_count": null,
      "metadata": {
        "colab": {
          "base_uri": "https://localhost:8080/"
        },
        "id": "fDcjKv_f3gIC",
        "outputId": "dee86be3-cee7-4379-bee6-a5a72cd47e2b"
      },
      "outputs": [
        {
          "output_type": "stream",
          "name": "stdout",
          "text": [
            "digite o ano: 2024\n",
            "o ano é bissexto\n"
          ]
        }
      ],
      "source": [
        "##entrada\n",
        "ano=int(input(\"digite o ano: \"))\n",
        "#processamento\n",
        "if ano % 4 == 0 and ano % 100 != 0 or ano % 400 == 0:\n",
        "  print(\"o ano é bissexto\")\n",
        "else:\n",
        "  print(\"o ano não é bissexto\")"
      ]
    },
    {
      "cell_type": "code",
      "source": [
        "##entrada\n",
        "idade=int(input(\"digite sua idade: \"))\n",
        "#processamento\n",
        "if idade >= 18 and idade<=30:\n",
        "  print(\"pode participar do grupo da mocidade\")\n",
        "elif idade>=12 and idade<=17:\n",
        "  print(\"participa do grupo de adolescentes\")\n",
        "elif idade>=0 and idade<=11:\n",
        "  print(\"participa do grupo de crianças\")\n",
        "else:\n",
        "  print(\"participa do grupo de adultos\")"
      ],
      "metadata": {
        "colab": {
          "base_uri": "https://localhost:8080/"
        },
        "id": "ueIGRCQ86fUB",
        "outputId": "1f362ebb-309d-441d-8031-50c3ebece093"
      },
      "execution_count": null,
      "outputs": [
        {
          "output_type": "stream",
          "name": "stdout",
          "text": [
            "digite sua idade: 45\n",
            "participa do grupo de adultos\n"
          ]
        }
      ]
    },
    {
      "cell_type": "code",
      "source": [
        "##entrada\n",
        "numero=int(input(\"digite um numero: \"))\n",
        "#processamento\n",
        "if numero>=10 and numero<=77:\n",
        "  print(\"faz parte da sequência \")\n",
        "else:\n",
        "  print(\"não faz parte da sequência \")"
      ],
      "metadata": {
        "colab": {
          "base_uri": "https://localhost:8080/"
        },
        "id": "eA4V1clr8rvJ",
        "outputId": "36cadef3-2177-416b-b486-bab7226bf1c7"
      },
      "execution_count": null,
      "outputs": [
        {
          "output_type": "stream",
          "name": "stdout",
          "text": [
            "digite um numero: 5\n",
            "não faz parte da sequência \n"
          ]
        }
      ]
    },
    {
      "cell_type": "code",
      "source": [
        "##entrada\n",
        "numero=int(input(\"digite um numero: \"))\n",
        "#processamento\n",
        "if numero%2==0:\n",
        "  print(\"o numero é par\")\n",
        "else:\n",
        "  print(\"o numero é impar\")\n"
      ],
      "metadata": {
        "colab": {
          "base_uri": "https://localhost:8080/"
        },
        "id": "bcbWp9H3A-Yr",
        "outputId": "eab34be8-23b5-46c4-f2c4-51403d7df145"
      },
      "execution_count": null,
      "outputs": [
        {
          "output_type": "stream",
          "name": "stdout",
          "text": [
            "digite um numero: 7\n",
            "o numero é impar\n"
          ]
        }
      ]
    },
    {
      "cell_type": "code",
      "source": [
        "##entrada\n",
        "L1=int(input(\"digite o tres lado do triangulo, digite o lado  do l1 \"))\n",
        "L2=int(input(\"digite o lado do L2 \"))\n",
        "L3=int(input(\"digite o lado do L3 \"))\n",
        "##processamento\n",
        "if L1+L2>L3 and L1+L3>L2 and L2+L3>L1:\n",
        "  print(\"triangulo\")\n",
        "elif L1==L2==L3:\n",
        "  print(\"equilatero\")\n",
        "elif L1==L2 or L1==L3 or L2==L3:\n",
        "  print(\"isoceles\")\n",
        "else:\n",
        "  print(\"escaleno\")"
      ],
      "metadata": {
        "colab": {
          "base_uri": "https://localhost:8080/"
        },
        "id": "L10EhSR5B91p",
        "outputId": "70c43246-0822-4c8f-f429-ecdcc8824971"
      },
      "execution_count": null,
      "outputs": [
        {
          "output_type": "stream",
          "name": "stdout",
          "text": [
            "digite o tres lado do triangulo, digite o lado  do l1 3\n",
            "digite o lado do L2 2\n",
            "digite o lado do L3 5\n",
            "escaleno\n"
          ]
        }
      ]
    },
    {
      "cell_type": "code",
      "source": [
        "##entrada\n",
        "peso=float(input(\"digite o peso (em kg) \"))\n",
        "altura=float(input(\"digite a altura (em metro) \"))\n",
        "##processamento\n",
        "imc=peso/(altura**2)\n",
        "\n",
        "if peso/(altura**2)<18.5:\n",
        "  print(\"abaixo do peso\")\n",
        "elif peso/(altura**2)>=18.5 and peso/(altura**2)<=24.9:\n",
        "  print(\"peso normal\")\n",
        "elif peso/(altura**2)>=25 and peso/(altura**2)<=29.9:\n",
        "  print(\"sobre peso\")\n",
        "elif peso/(altura**2)>=30 and peso/(altura**2)<=34.9:\n",
        "  print(\"obesidade grau 1\")\n",
        "elif peso/(altura**2)>=35 and peso/(altura**2)<=39.9:\n",
        "  print(\"obesidade grau 2\")\n",
        "else:\n",
        "  print(\"obesidade grau 3\")\n"
      ],
      "metadata": {
        "colab": {
          "base_uri": "https://localhost:8080/"
        },
        "id": "2PkKmOBAC6zt",
        "outputId": "02b70a31-1e4f-4129-99d6-a7ee86701cee"
      },
      "execution_count": null,
      "outputs": [
        {
          "output_type": "stream",
          "name": "stdout",
          "text": [
            "digite o peso (em kg) 80\n",
            "digite a altura (em metro) 1.80\n",
            "peso normal\n"
          ]
        }
      ]
    },
    {
      "cell_type": "code",
      "source": [
        "##entrada\n",
        "altura=float(input(\"digite a altura \"))\n",
        "idade=int(input(\"digite a idade \"))\n",
        "##processamento\n",
        "if altura>=1.75 and idade>=18:\n",
        "  print(\"pode competir\")\n",
        "else:\n",
        "  print(\"não pode competir\")"
      ],
      "metadata": {
        "colab": {
          "base_uri": "https://localhost:8080/"
        },
        "id": "9g6TDgctDnHu",
        "outputId": "4377dba7-6c4c-4f8b-ccdb-3907868a99c0"
      },
      "execution_count": null,
      "outputs": [
        {
          "output_type": "stream",
          "name": "stdout",
          "text": [
            "digite a altura 1.80\n",
            "digite a idade 17\n",
            "não pode competir\n"
          ]
        }
      ]
    },
    {
      "cell_type": "code",
      "source": [
        "##entrada\n",
        "salario = float(input(\"digite o salario \"))\n",
        "emprestimo = float(input(\"digite o valor do emprestimo \"))\n",
        "parcelas = int(input(\"digite a quantidade de parcelas \"))\n",
        "##processamento\n",
        "salario*0.3\n",
        "emprestimo/parcelas\n",
        "if salario*0.3>=emprestimo/parcelas:\n",
        "  print(\"pode fazer o emprestimo\")\n",
        "else:\n",
        "  print(\"não pode fazer o emprestimo\")"
      ],
      "metadata": {
        "colab": {
          "base_uri": "https://localhost:8080/"
        },
        "id": "Ci_5YV5JE5Zu",
        "outputId": "ce437016-360a-4167-9c47-fca212f1d72c"
      },
      "execution_count": null,
      "outputs": [
        {
          "output_type": "stream",
          "name": "stdout",
          "text": [
            "digite o salario 1000\n",
            "digite o valor do emprestimo 700\n",
            "digite a quantidade de parcelas 2\n",
            "não pode fazer o emprestimo\n"
          ]
        }
      ]
    },
    {
      "cell_type": "code",
      "source": [
        "##entrada\n",
        "usuario = int(input(\"digite  usuário \"))\n",
        "senha = int(input(\"digite a senha \"))\n",
        "##processamento\n",
        "if usuario==2506 and senha==1234:\n",
        "  print(\"acesso permitido\")\n",
        "else:\n",
        "  print(\"usuario ou senha incorreta, tente novamente\")"
      ],
      "metadata": {
        "colab": {
          "base_uri": "https://localhost:8080/"
        },
        "id": "80irUdjV2TW1",
        "outputId": "101320fd-0125-41da-e029-ea6958ec7d7f"
      },
      "execution_count": null,
      "outputs": [
        {
          "output_type": "stream",
          "name": "stdout",
          "text": [
            "digite  usuário 2506\n",
            "digite a senha3435\n",
            "usuario ou senha incorreta, tente novamente\n"
          ]
        }
      ]
    },
    {
      "cell_type": "code",
      "source": [
        "# Definindo os valores fixos\n",
        "limite = 3000.00\n",
        "saldo = -50.00\n",
        "\n",
        "# Função de login\n",
        "usuario = \"cliente\"\n",
        "senha = \"1234\"\n",
        "\n",
        "# Login\n",
        "login = input(\"Digite o nome de usuário: \")\n",
        "senha_digitada = input(\"Digite a senha: \")\n",
        "\n",
        "if login == usuario and senha_digitada == senha:\n",
        "    print(\"\\nLogin bem-sucedido!\")\n",
        "\n",
        "    # Exibição do menu\n",
        "    print(\"\\nEscolha uma operação:\")\n",
        "    print(\"1 - Sacar\")\n",
        "    print(\"2 - Depositar\")\n",
        "    print(\"3 - Ver saldo\")\n",
        "    print(\"4 - Sair\")\n",
        "\n",
        "    opcao = input(\"Digite a opção desejada: \")\n",
        "\n",
        "    if opcao == \"1\":  # Saque\n",
        "        valor_saque = float(input(\"Digite o valor que deseja sacar: \"))\n",
        "\n",
        "        if valor_saque <= 0:\n",
        "            print(\"Valor inválido. Digite um valor maior que zero.\")\n",
        "        elif valor_saque <= saldo + limite:\n",
        "            saldo -= valor_saque\n",
        "            print(f\"\\nSaque de R$ {valor_saque:.2f} autorizado.\")\n",
        "            print(f\"\\nSaldo atual: R$ {saldo:.2f}\")\n",
        "            if saldo < 0:\n",
        "                limite_usado = abs(saldo)\n",
        "                limite_restante = limite - limite_usado\n",
        "                print(f\"Você está usando R$ {limite_usado:.2f} do limite do banco.\")\n",
        "                print(f\"Limite restante: R$ {limite_restante:.2f}\")\n",
        "            else:\n",
        "                print(f\"Limite total disponível: R$ {limite:.2f}\")\n",
        "        else:\n",
        "            print(\"Saque negado! Valor excede o saldo e o limite disponíveis.\")\n",
        "            print(f\"\\nSaldo atual: R$ {saldo:.2f}\")\n",
        "            if saldo < 0:\n",
        "                limite_usado = abs(saldo)\n",
        "                limite_restante = limite - limite_usado\n",
        "                print(f\"Você está usando R$ {limite_usado:.2f} do limite do banco.\")\n",
        "                print(f\"Limite restante: R$ {limite_restante:.2f}\")\n",
        "            else:\n",
        "                print(f\"Limite total disponível: R$ {limite:.2f}\")\n",
        "\n",
        "    elif opcao == \"2\":  # Depósito\n",
        "        valor_deposito = float(input(\"Digite o valor que deseja depositar: \"))\n",
        "\n",
        "        if valor_deposito <= 0:\n",
        "            print(\"Valor inválido. Digite um valor maior que zero.\")\n",
        "        else:\n",
        "            saldo += valor_deposito\n",
        "            print(f\"\\nDepósito de R$ {valor_deposito:.2f} realizado com sucesso.\")\n",
        "            print(f\"\\nSaldo atual: R$ {saldo:.2f}\")\n",
        "            if saldo < 0:\n",
        "                limite_usado = abs(saldo)\n",
        "                limite_restante = limite - limite_usado\n",
        "                print(f\"Você está usando R$ {limite_usado:.2f} do limite do banco.\")\n",
        "                print(f\"Limite restante: R$ {limite_restante:.2f}\")\n",
        "            else:\n",
        "                print(f\"Limite total disponível: R$ {limite:.2f}\")\n",
        "\n",
        "            if saldo > limite:\n",
        "                print(\"\\nAtenção! Você ultrapassou o limite do banco.\")\n",
        "\n",
        "    elif opcao == \"3\":  # Ver saldo\n",
        "        print(f\"\\nSaldo atual: R$ {saldo:.2f}\")\n",
        "        if saldo < 0:\n",
        "            limite_usado = abs(saldo)\n",
        "            limite_restante = limite - limite_usado\n",
        "            print(f\"Você está usando R$ {limite_usado:.2f} do limite do banco.\")\n",
        "            print(f\"Limite restante: R$ {limite_restante:.2f}\")\n",
        "        else:\n",
        "            print(f\"Limite total disponível: R$ {limite:.2f}\")\n",
        "\n",
        "    elif opcao == \"4\":  # Sair\n",
        "        print(\"Saindo do sistema. Obrigado por utilizar nosso banco!\")\n",
        "\n",
        "    else:\n",
        "        print(\"Opção inválida. Tente novamente.\")\n",
        "\n",
        "else:\n",
        "    print(\"Login ou senha incorretos. Acesso negado.\")\n",
        "\n",
        "\n",
        "\n",
        "\n"
      ],
      "metadata": {
        "colab": {
          "base_uri": "https://localhost:8080/"
        },
        "id": "Mk8pHptP4mHq",
        "outputId": "3274ad4e-fcef-4688-87f2-5f4337ec4fff"
      },
      "execution_count": null,
      "outputs": [
        {
          "output_type": "stream",
          "name": "stdout",
          "text": [
            "Digite o nome de usuário: cliente\n",
            "Digite a senha: 1234\n",
            "\n",
            "Login bem-sucedido!\n",
            "\n",
            "Escolha uma operação:\n",
            "1 - Sacar\n",
            "2 - Depositar\n",
            "3 - Ver saldo\n",
            "4 - Sair\n",
            "Digite a opção desejada: 1\n",
            "Digite o valor que deseja sacar: 563.45\n",
            "\n",
            "Saque de R$ 563.45 autorizado.\n",
            "\n",
            "Saldo atual: R$ -613.45\n",
            "Você está usando R$ 613.45 do limite do banco.\n",
            "Limite restante: R$ 2386.55\n"
          ]
        }
      ]
    },
    {
      "cell_type": "code",
      "source": [
        "##entrada\n",
        "altura=float(input(\"digite a altura \"))\n",
        "idade=int(input(\"digite a idade \"))\n",
        "##processamento\n",
        "if altura>=1.75 and idade>=18:\n",
        "  print(\"pode competir\")\n",
        "else:\n",
        "  print(\"não pode competir\")"
      ],
      "metadata": {
        "colab": {
          "base_uri": "https://localhost:8080/"
        },
        "id": "olUvDpuMFVsF",
        "outputId": "cbab405c-e280-444a-aff3-1c12684871ea"
      },
      "execution_count": null,
      "outputs": [
        {
          "output_type": "stream",
          "name": "stdout",
          "text": [
            "digite a altura 1.85\n",
            "digite a idade 24\n",
            "pode competir\n"
          ]
        }
      ]
    },
    {
      "cell_type": "code",
      "source": [],
      "metadata": {
        "id": "7MI6ravgFls7"
      },
      "execution_count": null,
      "outputs": []
    }
  ]
}