{
  "nbformat": 4,
  "nbformat_minor": 0,
  "metadata": {
    "colab": {
      "provenance": [],
      "authorship_tag": "ABX9TyPtYc5CvP+pSChaNA/k4/lW",
      "include_colab_link": true
    },
    "kernelspec": {
      "name": "python3",
      "display_name": "Python 3"
    },
    "language_info": {
      "name": "python"
    }
  },
  "cells": [
    {
      "cell_type": "markdown",
      "metadata": {
        "id": "view-in-github",
        "colab_type": "text"
      },
      "source": [
        "<a href=\"https://colab.research.google.com/github/arturl1910/PA_python/blob/main/Aula_PA_1C/Atividade_28_04.ipynb\" target=\"_parent\"><img src=\"https://colab.research.google.com/assets/colab-badge.svg\" alt=\"Open In Colab\"/></a>"
      ]
    },
    {
      "cell_type": "code",
      "execution_count": 73,
      "metadata": {
        "colab": {
          "base_uri": "https://localhost:8080/"
        },
        "id": "qzo6LmM5qY3x",
        "outputId": "50fd49b0-fd50-4213-addf-fa7361818e53"
      },
      "outputs": [
        {
          "output_type": "stream",
          "name": "stdout",
          "text": [
            "digite um número para ver se e par ou ímpar6\n",
            "o numero digitado é: par True\n",
            "o numero digitado é: impar False\n"
          ]
        }
      ],
      "source": [
        "#entrada\n",
        "valor=int(input(\"digite um número para ver se e par ou ímpar\"))\n",
        "\n",
        "##processamento\n",
        "par=(valor%2==0)\n",
        "impar=(valor%2==1)\n",
        "\n",
        "##saída\n",
        "print(\"o numero digitado é: par\", par)\n",
        "print(\"o numero digitado é: impar\", impar)"
      ]
    },
    {
      "cell_type": "code",
      "source": [
        "#entrada\n",
        "L1=int(input(\"digite o tres lado do triangulo, digite o lado  do l1 \"))\n",
        "L2=int(input(\"digite o lado do L2 \"))\n",
        "L3=int(input(\"digite o lado do L3 \"))\n",
        "\n",
        "##processamento\n",
        "triangulo= (L1+L2>L3) and (L2+L3>L1) and (L3+L1>L2)\n",
        "print(triangulo)\n",
        "\n",
        "equilatero=(L1==L2==L3)\n",
        "print(equilatero)\n",
        "\n",
        "escaleno=L1!= L2 !=L3\n",
        "print(escaleno)\n",
        "\n",
        "isoceles=(equilatero==escaleno)\n",
        "print(isoceles)\n",
        "\n",
        "##saida\n",
        "print(\"o triangulo é valido ?\", triangulo)\n",
        "print(\" o equilatero é\", equilatero)\n",
        "print(\"o escaleno é\", escaleno)\n",
        "print(\"o isoceles é\", isoceles)\n",
        "\n"
      ],
      "metadata": {
        "colab": {
          "base_uri": "https://localhost:8080/"
        },
        "id": "lQOic7wfrYc8",
        "outputId": "b7e3df08-41e6-4f06-e530-41a6b6dbb496"
      },
      "execution_count": 72,
      "outputs": [
        {
          "output_type": "stream",
          "name": "stdout",
          "text": [
            "digite o tres lado do triangulo, digite o lado  do l1 9\n",
            "digite o lado do L2 8\n",
            "digite o lado do L3 10\n",
            "True\n",
            "False\n",
            "True\n",
            "False\n",
            "o triangulo é valido ? True\n",
            " o equilatero é False\n",
            "o escaleno é True\n",
            "o isoceles é False\n"
          ]
        }
      ]
    },
    {
      "cell_type": "code",
      "source": [
        "##entrada\n",
        "peso=float(input(\"digite o peso (em kg) \"))\n",
        "altura=float(input(\"digite a altura (em metro) \"))\n",
        "\n",
        "##processamento\n",
        "imc=( peso/altura**2)\n",
        "\n",
        "\n",
        "abaixo_do_peso = imc < 18.5\n",
        "\n",
        "\n",
        "peso_normal=(imc>=18.5 and imc<=24.9)\n",
        "\n",
        "\n",
        "sobrepeso=(imc>=25 and imc<=29.9)\n",
        "\n",
        "\n",
        "obesidade_grau_1=(imc>=30 and imc<=34.9)\n",
        "\n",
        "\n",
        "obesidade_grau_2=(imc>=35 and imc<=39.9)\n",
        "\n",
        "\n",
        "obesidade_grau_3=(imc>=40)\n",
        "\n",
        "##saida\n",
        "print(\"o imc é\", imc)\n",
        "print(\"abaixo_do_peso\", abaixo_do_peso)\n",
        "print(\"peso_normal\", peso_normal)\n",
        "print(\"sobrepeso\", sobrepeso)\n",
        "print(\"obesidade_grau_1\", obesidade_grau_1)\n",
        "print(\"obesidade_grau_2\", obesidade_grau_2)\n",
        "print(\"obesidade_grau_3\", obesidade_grau_3)\n",
        "\n",
        "\n",
        "\n"
      ],
      "metadata": {
        "colab": {
          "base_uri": "https://localhost:8080/"
        },
        "id": "bUZ-DXdDuKJI",
        "outputId": "95885584-6aa9-461e-c5d1-1a0b7fa6503d"
      },
      "execution_count": 67,
      "outputs": [
        {
          "output_type": "stream",
          "name": "stdout",
          "text": [
            "digite o peso (em kg) 80\n",
            "digite a altura (em metro) 1.80\n",
            "o imc é 24.691358024691358\n",
            "abaixo_do_peso False\n",
            "peso_normal True\n",
            "sobrepeso False\n",
            "obesidade_grau_1 False\n",
            "obesidade_grau_2 False\n",
            "obesidade_grau_3 False\n"
          ]
        }
      ]
    },
    {
      "cell_type": "code",
      "source": [
        "##entrada\n",
        "altura=float(input(\"digite a altura \"))\n",
        "idade=int(input(\"digite a idade \"))\n",
        "\n",
        "##processamento\n",
        "pode = altura>=1.75 and idade>=18\n",
        "\n",
        "##saida\n",
        "print(\"pode\", pode)"
      ],
      "metadata": {
        "colab": {
          "base_uri": "https://localhost:8080/"
        },
        "id": "c5x0D7m028T3",
        "outputId": "b61ca882-d54a-45d9-b48b-00f3694899b8"
      },
      "execution_count": 71,
      "outputs": [
        {
          "output_type": "stream",
          "name": "stdout",
          "text": [
            "digite a altura1.80\n",
            "digite a idade18\n",
            "pode True\n"
          ]
        }
      ]
    },
    {
      "cell_type": "code",
      "source": [],
      "metadata": {
        "id": "l3H3wzbDAJQI"
      },
      "execution_count": null,
      "outputs": []
    }
  ]
}