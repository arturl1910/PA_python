{
  "nbformat": 4,
  "nbformat_minor": 0,
  "metadata": {
    "colab": {
      "provenance": [],
      "authorship_tag": "ABX9TyP9DspFclwcxOAoLT7N+PEd",
      "include_colab_link": true
    },
    "kernelspec": {
      "name": "python3",
      "display_name": "Python 3"
    },
    "language_info": {
      "name": "python"
    }
  },
  "cells": [
    {
      "cell_type": "markdown",
      "metadata": {
        "id": "view-in-github",
        "colab_type": "text"
      },
      "source": [
        "<a href=\"https://colab.research.google.com/github/arturl1910/PA_python/blob/main/Aula_PA_1C/variaveis.ipynb\" target=\"_parent\"><img src=\"https://colab.research.google.com/assets/colab-badge.svg\" alt=\"Open In Colab\"/></a>"
      ]
    },
    {
      "cell_type": "code",
      "execution_count": 8,
      "metadata": {
        "colab": {
          "base_uri": "https://localhost:8080/"
        },
        "id": "0bzNUZta96ds",
        "outputId": "77a1d92f-b1d8-4e01-cb03-c7a5d795a52e"
      },
      "outputs": [
        {
          "output_type": "stream",
          "name": "stdout",
          "text": [
            "digite o numero8\n",
            "digite mais um numero9\n",
            "a soma dos numerose igual á 17\n"
          ]
        }
      ],
      "source": [
        "##calcular soma\n",
        "##entrada\n",
        "num1 = int(input('digite o numero'))\n",
        "num2 = int(input('digite mais um numero'))\n",
        "#processamento\n",
        "soma = num1 + num2\n",
        "\n",
        "#saida\n",
        "print('a soma dos numerose igual á', soma)"
      ]
    },
    {
      "cell_type": "code",
      "source": [
        "#calcular\n",
        "#entrada\n",
        "num1 = int(input('digite o numero'))\n",
        "num2 = int(input('digite mais um numero'))\n",
        "\n",
        "#processamento\n",
        "soma = num1 - num2\n",
        "\n",
        "#saida\n",
        "print('a soma dos numeros e igual á', soma)\n"
      ],
      "metadata": {
        "colab": {
          "base_uri": "https://localhost:8080/"
        },
        "id": "6WboADCC-fIX",
        "outputId": "39d79ef3-c63c-48ef-8473-b86bef43fa2e"
      },
      "execution_count": 11,
      "outputs": [
        {
          "output_type": "stream",
          "name": "stdout",
          "text": [
            "digite o numero6\n",
            "digite mais um numero5\n",
            "a soma dos numeros e igual á 1\n"
          ]
        }
      ]
    },
    {
      "cell_type": "code",
      "source": [
        "#calcular\n",
        "#entrada\n",
        "num1 = int(input('digite o numero'))\n",
        "num2 = int(input('digite mais um numero'))\n",
        "#processamento\n",
        "soma = num1 * num2\n",
        "#saida\n",
        "#saida\n",
        "print('a soma dos numeros e igual á', soma)"
      ],
      "metadata": {
        "colab": {
          "base_uri": "https://localhost:8080/"
        },
        "id": "kF949DvRBA9G",
        "outputId": "433e8144-7173-4587-cde8-4ef786e82584"
      },
      "execution_count": 17,
      "outputs": [
        {
          "output_type": "stream",
          "name": "stdout",
          "text": [
            "digite o numero5\n",
            "digite mais um numero6\n",
            "a soma dos numeros e igual á 30\n"
          ]
        }
      ]
    },
    {
      "cell_type": "code",
      "source": [
        "#calcular\n",
        "#entrada\n",
        "num1 = int(input('digite o numero'))\n",
        "num2 = int(input('digite mais um numero'))\n",
        "#processamento\n",
        "soma = num1 / num2\n",
        "#saida\n",
        "print('a soma dos numeros e igual á', soma)"
      ],
      "metadata": {
        "colab": {
          "base_uri": "https://localhost:8080/"
        },
        "id": "GrCJNInEBvIK",
        "outputId": "543e5101-c925-4af3-8c3d-3743d31659f5"
      },
      "execution_count": 16,
      "outputs": [
        {
          "output_type": "stream",
          "name": "stdout",
          "text": [
            "digite o numero5\n",
            "digite mais um numero2\n",
            "a soma dos numeros e igual á 2.5\n"
          ]
        }
      ]
    }
  ]
}