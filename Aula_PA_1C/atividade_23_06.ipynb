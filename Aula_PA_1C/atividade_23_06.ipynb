{
  "nbformat": 4,
  "nbformat_minor": 0,
  "metadata": {
    "colab": {
      "provenance": [],
      "authorship_tag": "ABX9TyNidDJ/9sfROvaNdVtDaXqn",
      "include_colab_link": true
    },
    "kernelspec": {
      "name": "python3",
      "display_name": "Python 3"
    },
    "language_info": {
      "name": "python"
    }
  },
  "cells": [
    {
      "cell_type": "markdown",
      "metadata": {
        "id": "view-in-github",
        "colab_type": "text"
      },
      "source": [
        "<a href=\"https://colab.research.google.com/github/arturl1910/PA_python/blob/main/Aula_PA_1C/atividade_23_06.ipynb\" target=\"_parent\"><img src=\"https://colab.research.google.com/assets/colab-badge.svg\" alt=\"Open In Colab\"/></a>"
      ]
    },
    {
      "cell_type": "code",
      "execution_count": 32,
      "metadata": {
        "id": "7FaJVyI1DzeF"
      },
      "outputs": [],
      "source": [
        "nomes = [\"macaco\", \"elefante\", \"hipopotamo\", \"bicho pau\"]"
      ]
    },
    {
      "cell_type": "code",
      "source": [
        "print(nomes)"
      ],
      "metadata": {
        "colab": {
          "base_uri": "https://localhost:8080/"
        },
        "id": "gUpGVp6BELJN",
        "outputId": "f6432011-38e9-45e1-8050-e6b08c7f63a3"
      },
      "execution_count": 9,
      "outputs": [
        {
          "output_type": "stream",
          "name": "stdout",
          "text": [
            "['macaco', 'elefante', 'hipopotamo', 'bicho pau']\n"
          ]
        }
      ]
    },
    {
      "cell_type": "code",
      "source": [
        "nomes.append(\"dromedário\")"
      ],
      "metadata": {
        "id": "l67GbXGUERCe"
      },
      "execution_count": 11,
      "outputs": []
    },
    {
      "cell_type": "code",
      "source": [
        "nomes.append(\"cake gostosa\")"
      ],
      "metadata": {
        "id": "OSPvpUGFFB2F"
      },
      "execution_count": 12,
      "outputs": []
    },
    {
      "cell_type": "code",
      "source": [
        "print(nomes)"
      ],
      "metadata": {
        "colab": {
          "base_uri": "https://localhost:8080/"
        },
        "id": "aX0tHIX5FJ5g",
        "outputId": "bf63a532-857a-490b-e1da-ff0faae90d8b"
      },
      "execution_count": 13,
      "outputs": [
        {
          "output_type": "stream",
          "name": "stdout",
          "text": [
            "['macaco', 'elefante', 'hipopotamo', 'bicho pau', 'dromedário', 'cake gostosa']\n"
          ]
        }
      ]
    },
    {
      "cell_type": "code",
      "source": [
        "print(nomes[3])"
      ],
      "metadata": {
        "colab": {
          "base_uri": "https://localhost:8080/"
        },
        "id": "-hjih5owFNyK",
        "outputId": "b76f12c1-6dbe-45be-fdf3-f8ecc53504e9"
      },
      "execution_count": 14,
      "outputs": [
        {
          "output_type": "stream",
          "name": "stdout",
          "text": [
            "bicho pau\n"
          ]
        }
      ]
    },
    {
      "cell_type": "code",
      "source": [
        "nomes.remove('cake gostosa')"
      ],
      "metadata": {
        "id": "vSUQTAPlFkWv"
      },
      "execution_count": 15,
      "outputs": []
    },
    {
      "cell_type": "code",
      "source": [
        "print(nomes)"
      ],
      "metadata": {
        "colab": {
          "base_uri": "https://localhost:8080/"
        },
        "id": "Qy7g9uD3Fr6E",
        "outputId": "22ec22b0-8139-4ed8-d399-46f1b33c7235"
      },
      "execution_count": 16,
      "outputs": [
        {
          "output_type": "stream",
          "name": "stdout",
          "text": [
            "['macaco', 'elefante', 'hipopotamo', 'bicho pau', 'dromedário']\n"
          ]
        }
      ]
    },
    {
      "cell_type": "code",
      "source": [
        "nomes.pop(2)"
      ],
      "metadata": {
        "colab": {
          "base_uri": "https://localhost:8080/",
          "height": 36
        },
        "id": "C3SeOcfvF1wG",
        "outputId": "1957031a-046d-43b1-9e89-edec3d877c36"
      },
      "execution_count": 17,
      "outputs": [
        {
          "output_type": "execute_result",
          "data": {
            "text/plain": [
              "'hipopotamo'"
            ],
            "application/vnd.google.colaboratory.intrinsic+json": {
              "type": "string"
            }
          },
          "metadata": {},
          "execution_count": 17
        }
      ]
    },
    {
      "cell_type": "code",
      "source": [
        "print(nomes)"
      ],
      "metadata": {
        "colab": {
          "base_uri": "https://localhost:8080/"
        },
        "id": "dtGnkauvGJ1d",
        "outputId": "0e4ba2b2-7aff-4ba8-c4cd-46cb9059ae45"
      },
      "execution_count": 31,
      "outputs": [
        {
          "output_type": "stream",
          "name": "stdout",
          "text": [
            "o\n"
          ]
        }
      ]
    },
    {
      "cell_type": "code",
      "source": [
        "frutas =(\"tomate\", \"manga\", \"nozes\")"
      ],
      "metadata": {
        "id": "TPMXi42TGN6M"
      },
      "execution_count": 19,
      "outputs": []
    },
    {
      "cell_type": "code",
      "source": [
        "print(frutas)"
      ],
      "metadata": {
        "colab": {
          "base_uri": "https://localhost:8080/"
        },
        "id": "Rp1dg1XuGjcs",
        "outputId": "bef9f277-2c96-4d2a-8cc9-cbc24e2f6f88"
      },
      "execution_count": 21,
      "outputs": [
        {
          "output_type": "stream",
          "name": "stdout",
          "text": [
            "('tomate', 'manga', 'nozes')\n"
          ]
        }
      ]
    },
    {
      "cell_type": "code",
      "source": [
        "for i in range (5):\n",
        "  print (i)"
      ],
      "metadata": {
        "colab": {
          "base_uri": "https://localhost:8080/"
        },
        "id": "hRnHF86GG7qT",
        "outputId": "c5ec1c37-c839-4fd4-ba74-e9b64c65ea69"
      },
      "execution_count": 24,
      "outputs": [
        {
          "output_type": "stream",
          "name": "stdout",
          "text": [
            "0\n",
            "1\n",
            "2\n",
            "3\n",
            "4\n"
          ]
        }
      ]
    },
    {
      "cell_type": "code",
      "source": [
        "for nomes in nomes:\n",
        "  print(nomes)"
      ],
      "metadata": {
        "colab": {
          "base_uri": "https://localhost:8080/"
        },
        "id": "AMmvPczSHbN2",
        "outputId": "69e2769e-a7b6-469f-ff45-fcab49902cb4"
      },
      "execution_count": 33,
      "outputs": [
        {
          "output_type": "stream",
          "name": "stdout",
          "text": [
            "macaco\n",
            "elefante\n",
            "hipopotamo\n",
            "bicho pau\n"
          ]
        }
      ]
    },
    {
      "cell_type": "code",
      "source": [
        "print (nomes)"
      ],
      "metadata": {
        "colab": {
          "base_uri": "https://localhost:8080/"
        },
        "id": "pRv7CFBLH4lS",
        "outputId": "ea56b2cb-622a-4889-a05c-39b588458cac"
      },
      "execution_count": 34,
      "outputs": [
        {
          "output_type": "stream",
          "name": "stdout",
          "text": [
            "bicho pau\n"
          ]
        }
      ]
    },
    {
      "cell_type": "code",
      "source": [
        "for nomes in \"elefante\":\n",
        "  print(nomes)"
      ],
      "metadata": {
        "colab": {
          "base_uri": "https://localhost:8080/"
        },
        "id": "i2d8zfB7IMsm",
        "outputId": "0cb29f48-d6a3-4736-ec7a-c2722d73884f"
      },
      "execution_count": 40,
      "outputs": [
        {
          "output_type": "stream",
          "name": "stdout",
          "text": [
            "e\n",
            "l\n",
            "e\n",
            "f\n",
            "a\n",
            "n\n",
            "t\n",
            "e\n"
          ]
        }
      ]
    },
    {
      "cell_type": "code",
      "source": [
        "for nomes in range (1):\n",
        "  print(nomes)\n"
      ],
      "metadata": {
        "colab": {
          "base_uri": "https://localhost:8080/"
        },
        "id": "HGN-2vqwI72s",
        "outputId": "507c8470-39f8-4930-ce89-4fa44746d425"
      },
      "execution_count": 42,
      "outputs": [
        {
          "output_type": "stream",
          "name": "stdout",
          "text": [
            "0\n"
          ]
        }
      ]
    },
    {
      "cell_type": "code",
      "source": [
        "contador = 0\n",
        "while contador <=5:\n",
        "  print(contador)\n",
        "  contador +=1"
      ],
      "metadata": {
        "colab": {
          "base_uri": "https://localhost:8080/"
        },
        "id": "b55K0w5vJOFP",
        "outputId": "3c49e953-ea6c-4258-d4c5-b3f47b2ebb6a"
      },
      "execution_count": 53,
      "outputs": [
        {
          "output_type": "stream",
          "name": "stdout",
          "text": [
            "0\n",
            "1\n",
            "2\n",
            "3\n",
            "4\n",
            "5\n"
          ]
        }
      ]
    },
    {
      "cell_type": "code",
      "source": [
        "\n",
        "for i in range (0,11):\n",
        "  print(i)"
      ],
      "metadata": {
        "colab": {
          "base_uri": "https://localhost:8080/"
        },
        "id": "Id0JCWf7KvU0",
        "outputId": "7ff9f70d-f14e-4941-9539-953aae613abb"
      },
      "execution_count": 63,
      "outputs": [
        {
          "output_type": "stream",
          "name": "stdout",
          "text": [
            "0\n",
            "1\n",
            "2\n",
            "3\n",
            "4\n",
            "5\n",
            "6\n",
            "7\n",
            "8\n",
            "9\n",
            "10\n"
          ]
        }
      ]
    },
    {
      "cell_type": "code",
      "source": [
        "soma = 0\n",
        "for i in range (1,11):\n",
        "  soma += i\n",
        "print(\"Soma:\", soma)\n",
        ""
      ],
      "metadata": {
        "colab": {
          "base_uri": "https://localhost:8080/"
        },
        "id": "tLm9Mw08L2W9",
        "outputId": "91e91088-364f-46fd-96c2-a5feaa1fdd75"
      },
      "execution_count": 77,
      "outputs": [
        {
          "output_type": "stream",
          "name": "stdout",
          "text": [
            "Soma: 55\n"
          ]
        }
      ]
    },
    {
      "cell_type": "code",
      "source": [
        "n=int(input('digite um numero '))\n",
        "for i in range(1,11):\n",
        "  print(f\"{n} x {i}={n*i}\")"
      ],
      "metadata": {
        "colab": {
          "base_uri": "https://localhost:8080/"
        },
        "id": "MZWzQA8UNIxM",
        "outputId": "6a38dbcd-f213-4d8f-a087-fc1cbddb451c"
      },
      "execution_count": 84,
      "outputs": [
        {
          "output_type": "stream",
          "name": "stdout",
          "text": [
            "digite um numero 56\n",
            "56 x 1=56\n",
            "56 x 2=112\n",
            "56 x 3=168\n",
            "56 x 4=224\n",
            "56 x 5=280\n",
            "56 x 6=336\n",
            "56 x 7=392\n",
            "56 x 8=448\n",
            "56 x 9=504\n",
            "56 x 10=560\n"
          ]
        }
      ]
    },
    {
      "cell_type": "code",
      "source": [
        "contador = 0\n",
        "while contador <=20:\n",
        "  print(contador)\n",
        "  contador +=2"
      ],
      "metadata": {
        "colab": {
          "base_uri": "https://localhost:8080/"
        },
        "id": "ersRb5NGOsrP",
        "outputId": "dfe8085f-0411-417d-f613-5a56b684187e"
      },
      "execution_count": 87,
      "outputs": [
        {
          "output_type": "stream",
          "name": "stdout",
          "text": [
            "0\n",
            "2\n",
            "4\n",
            "6\n",
            "8\n",
            "10\n",
            "12\n",
            "14\n",
            "16\n",
            "18\n",
            "20\n"
          ]
        }
      ]
    },
    {
      "cell_type": "code",
      "source": [
        "\n",
        "for i in range (0,21):\n",
        "  if i%2==0:\n",
        "    print(i)\n"
      ],
      "metadata": {
        "colab": {
          "base_uri": "https://localhost:8080/"
        },
        "id": "M6zirDqPQHoA",
        "outputId": "49c8f6a8-af29-4ef1-f8a4-121b5a06fdbd"
      },
      "execution_count": 102,
      "outputs": [
        {
          "output_type": "stream",
          "name": "stdout",
          "text": [
            "0\n",
            "2\n",
            "4\n",
            "6\n",
            "8\n",
            "10\n",
            "12\n",
            "14\n",
            "16\n",
            "18\n",
            "20\n"
          ]
        }
      ]
    },
    {
      "cell_type": "code",
      "source": [
        "for i in range (0, 21, 9):\n",
        "  print(i)"
      ],
      "metadata": {
        "colab": {
          "base_uri": "https://localhost:8080/"
        },
        "id": "anaXnHN2SQL4",
        "outputId": "d5b6f39f-f857-4342-9a9d-c17af2feb99d"
      },
      "execution_count": 104,
      "outputs": [
        {
          "output_type": "stream",
          "name": "stdout",
          "text": [
            "0\n",
            "9\n",
            "18\n"
          ]
        }
      ]
    },
    {
      "cell_type": "code",
      "source": [
        "for i in range(10, -1,-1):\n",
        "  print(i)"
      ],
      "metadata": {
        "colab": {
          "base_uri": "https://localhost:8080/"
        },
        "id": "6oQtI11TTXR_",
        "outputId": "9b7b945c-6e0b-41b5-e711-01582e03e4f3"
      },
      "execution_count": 110,
      "outputs": [
        {
          "output_type": "stream",
          "name": "stdout",
          "text": [
            "10\n",
            "9\n",
            "8\n",
            "7\n",
            "6\n",
            "5\n",
            "4\n",
            "3\n",
            "2\n",
            "1\n",
            "0\n"
          ]
        }
      ]
    },
    {
      "cell_type": "code",
      "source": [
        "num=int(input(\"Digite um número(0 para sair):\"))\n",
        "while num !=0:\n",
        "  soma += num\n",
        "  num = int(input(\"Digite outro número(0 para sair): \"))\n",
        "  print(\"Soma total: \", soma)"
      ],
      "metadata": {
        "colab": {
          "base_uri": "https://localhost:8080/"
        },
        "id": "702hEXswUIfS",
        "outputId": "5fdef71e-8e44-4ffd-e64c-31a7d5d39de2"
      },
      "execution_count": 112,
      "outputs": [
        {
          "output_type": "stream",
          "name": "stdout",
          "text": [
            "Digite um número(0 para sair):6\n",
            "Digite outro número(0 para sair): 6\n",
            "Soma total:  115\n",
            "Digite outro número(0 para sair): 6\n",
            "Soma total:  121\n",
            "Digite outro número(0 para sair): 6\n",
            "Soma total:  127\n",
            "Digite outro número(0 para sair): 6\n",
            "Soma total:  133\n",
            "Digite outro número(0 para sair): 6\n",
            "Soma total:  139\n",
            "Digite outro número(0 para sair): 6\n",
            "Soma total:  145\n",
            "Digite outro número(0 para sair): 0\n",
            "Soma total:  151\n"
          ]
        }
      ]
    },
    {
      "cell_type": "code",
      "source": [
        "senha=\"1234\"\n",
        "tentativas=0\n",
        "while True:\n",
        "  tentativas +=1\n",
        "  senhaDigitada =\"\"\n",
        "  senhaDigitada = input(\"digite a senha \")\n",
        "  if senhaDigitada != senha:\n",
        "    print(\"senha incorreta\")\n",
        "  else:\n",
        "    print(\"senha correta! 444\")\n",
        "    break\n",
        "\n",
        "  if tentativas >=3:\n",
        "    print(\"tentativas esgotadas\")\n",
        "    break\n"
      ],
      "metadata": {
        "colab": {
          "base_uri": "https://localhost:8080/"
        },
        "id": "1NmSJvT7Wiql",
        "outputId": "13eed571-b811-4e43-a0a9-bb85528166dc"
      },
      "execution_count": 149,
      "outputs": [
        {
          "output_type": "stream",
          "name": "stdout",
          "text": [
            "digite a senha 4\n",
            "senha incorreta\n",
            "digite a senha \n",
            "senha incorreta\n",
            "digite a senha \n",
            "senha incorreta\n",
            "tentativas esgotadas\n"
          ]
        }
      ]
    }
  ]
}