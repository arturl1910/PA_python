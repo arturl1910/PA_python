{
 "cells": [
  {
   "cell_type": "markdown",
   "metadata": {
    "id": "XpJAZxJGnsjo"
   },
   "source": [
    "Artur Miguel Prá Laurentino"
   ]
  },
  {
   "cell_type": "markdown",
   "metadata": {
    "id": "psR_IyuqtxJc"
   },
   "source": [
    "**Atividade Avaliativa **\n",
    "\n",
    "Enunciado:\n",
    "\n",
    "Crie um programa em Python para avaliar uma competição de bandas de música. O programa deve:\n",
    "\n",
    "Perguntar a quantidade de bandas participantes (mínimo 3).\n",
    "\n",
    "Perguntar o nome de cada banda.\n",
    "\n",
    "Para cada banda, receber as notas de 5 jurados (valores de 0 a 10).\n",
    "\n",
    "Calcular a média das notas de cada banda e armazenar o resultado em um dicionário, onde a chave será o nome da banda e o valor será a média das notas.\n",
    "\n",
    "Ao final, mostrar:\n",
    "\n",
    "A média de cada banda.\n",
    "\n",
    "O nome da banda vencedora (a que tiver maior média)."
   ]
  },
  {
   "cell_type": "code",
   "execution_count": null,
   "metadata": {
    "id": "3v1htaJlrcvG"
   },
   "outputs": [],
   "source": [
    "bandas=int(input(\"quantas bandas irão participar ?\" ))\n",
    "notas={}\n",
    "for i in range(bandas):\n",
    "    nome=input(f\"/n digite o nome da banda{i+1}:\")\n",
    "soma=0\n",
    "for j in range(5):\n",
    "    nota=float(input(f\"/n digite a nota do jurado{j+i}para(nome): \"))\n",
    "soma=nota+nota+nota+nota+nota/5\n",
    "print(\"/n pontuação total das bandas:\")\n",
    "    for banda total in notas.items():\n",
    "           print(f\"{candidato}:{total}\")\n",
    "vencedor=max(notas,key=notas.get):\n",
    "    print(f\"/n a banda vencedora é {vencedor}, com {notas[vencedor]}pontos!\")"
   ]
  },
  {
   "cell_type": "markdown",
   "metadata": {
    "id": "fRV1N-Q4G7BK"
   },
   "source": [
    "Enunciado:\n",
    "\n",
    "Crie um programa que conte quantas vezes cada palavra aparece em uma frase.\n",
    "\n",
    "Pedir ao usuário para digitar uma frase\n",
    "\n",
    "Imprimir a palavra e quantas vezes ela aparece"
   ]
  },
  {
   "cell_type": "code",
   "execution_count": null,
   "metadata": {
    "id": "HwK3-mVQHv8j"
   },
   "outputs": [],
   "source": [
    "frase=input(\"digite uma frase \")\n",
    "palavras=frase.lower()\n",
    "contagem={}\n",
    "for palavra in palavras:\n",
    "    if palavra in contagem:\n",
    "        contagem[palavra]+=1\n",
    "    else:\n",
    "        contagem[palavra]=1\n",
    "print(\"contagem de palavras:\")\n",
    "for palavra  in contagem:\n",
    "        print(f\"{palavra}:{quantidade}\")"
   ]
  },
  {
   "cell_type": "markdown",
   "metadata": {
    "id": "BKrOSqrOI2T5"
   },
   "source": [
    "Enunciado:\n",
    "\n",
    "Crie um programa em python que imprima números pares\n",
    "\n",
    "Pedir o usuário para digitar uma lista com mínimo 10 números\n",
    "\n",
    "Criar uma nova somente com numeros pares\n",
    "\n",
    "Imprimir números pares\n",
    "\n",
    "\n"
   ]
  },
  {
   "cell_type": "code",
   "execution_count": null,
   "metadata": {
    "id": "dBf7H6s9MjgZ"
   },
   "outputs": [],
   "source": [
    "numeros=input(\"digite uma lista de números \")\n",
    "numeros_lista=numeros.split()\n",
    "numeros_inteiros=[int(numero)for numero in numeros_lista]\n",
    "pares=0\n",
    "for numeros in numeros_inteiros:\n",
    "    if numero%2==0:\n",
    "        pares+=1        \n",
    "print(\"numeros:\" ,numeros_inteiros)\n",
    "print(\"quantidade de números pares:\",pares)\n",
    "        "
   ]
  },
  {
   "cell_type": "code",
   "execution_count": null,
   "metadata": {},
   "outputs": [],
   "source": []
  }
 ],
 "metadata": {
  "colab": {
   "authorship_tag": "ABX9TyMPfa4id0nMFHSWqcbBwSar",
   "provenance": [
    {
     "file_id": "1oEsagsr0AUsUTO9iGnea3JAW6NiCwqeB",
     "timestamp": 1758547990346
    },
    {
     "file_id": "1LADCxzYvBqiYFcjSgL_Z5bblVMBbsfJg",
     "timestamp": 1757516692807
    }
   ]
  },
  "kernelspec": {
   "display_name": "Python 3 (ipykernel)",
   "language": "python",
   "name": "python3"
  },
  "language_info": {
   "codemirror_mode": {
    "name": "ipython",
    "version": 3
   },
   "file_extension": ".py",
   "mimetype": "text/x-python",
   "name": "python",
   "nbconvert_exporter": "python",
   "pygments_lexer": "ipython3",
   "version": "3.10.7"
  }
 },
 "nbformat": 4,
 "nbformat_minor": 1
}
