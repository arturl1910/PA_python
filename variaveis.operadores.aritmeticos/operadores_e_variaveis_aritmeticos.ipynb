{
  "nbformat": 4,
  "nbformat_minor": 0,
  "metadata": {
    "colab": {
      "provenance": [],
      "authorship_tag": "ABX9TyMoenWSCkERfe9OXzKJ8nGN",
      "include_colab_link": true
    },
    "kernelspec": {
      "name": "python3",
      "display_name": "Python 3"
    },
    "language_info": {
      "name": "python"
    }
  },
  "cells": [
    {
      "cell_type": "markdown",
      "metadata": {
        "id": "view-in-github",
        "colab_type": "text"
      },
      "source": [
        "<a href=\"https://colab.research.google.com/github/arturl1910/PA_python/blob/main/variaveis.operadores.aritmeticos/operadores_e_variaveis_aritmeticos.ipynb\" target=\"_parent\"><img src=\"https://colab.research.google.com/assets/colab-badge.svg\" alt=\"Open In Colab\"/></a>"
      ]
    },
    {
      "cell_type": "code",
      "execution_count": 2,
      "metadata": {
        "colab": {
          "base_uri": "https://localhost:8080/"
        },
        "id": "LANjIsDYwN9O",
        "outputId": "5e10d2a7-2038-468d-e5ea-052fd300cb2b"
      },
      "outputs": [
        {
          "output_type": "stream",
          "name": "stdout",
          "text": [
            "digite o valor do carro 25000\n",
            "o valor total e 46400.0\n"
          ]
        }
      ],
      "source": [
        "#calcular\n",
        "##entrada\n",
        "valorcarro = float(input('digite o valor do carro '))\n",
        "##processamento\n",
        "imposto = (valorcarro * 45/100) + valorcarro\n",
        "distribuiçao = (imposto * 28/100) + imposto\n",
        "##saida\n",
        "print(\"o valor total e\", distribuiçao )\n"
      ]
    },
    {
      "cell_type": "code",
      "source": [],
      "metadata": {
        "id": "SAtgRpkjsgNK"
      },
      "execution_count": null,
      "outputs": []
    }
  ]
}