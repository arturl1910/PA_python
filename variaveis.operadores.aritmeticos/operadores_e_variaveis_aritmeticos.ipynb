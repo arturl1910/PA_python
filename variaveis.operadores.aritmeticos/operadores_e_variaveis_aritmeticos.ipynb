{
  "nbformat": 4,
  "nbformat_minor": 0,
  "metadata": {
    "colab": {
      "provenance": [],
      "authorship_tag": "ABX9TyNLiKLo3lZHplcVi2WJaYv3",
      "include_colab_link": true
    },
    "kernelspec": {
      "name": "python3",
      "display_name": "Python 3"
    },
    "language_info": {
      "name": "python"
    }
  },
  "cells": [
    {
      "cell_type": "markdown",
      "metadata": {
        "id": "view-in-github",
        "colab_type": "text"
      },
      "source": [
        "<a href=\"https://colab.research.google.com/github/arturl1910/PA_python/blob/main/variaveis.operadores.aritmeticos/operadores_e_variaveis_aritmeticos.ipynb\" target=\"_parent\"><img src=\"https://colab.research.google.com/assets/colab-badge.svg\" alt=\"Open In Colab\"/></a>"
      ]
    },
    {
      "cell_type": "code",
      "execution_count": 12,
      "metadata": {
        "colab": {
          "base_uri": "https://localhost:8080/"
        },
        "id": "LANjIsDYwN9O",
        "outputId": "16c0d608-b77f-46d7-f643-8d498b1e40d3"
      },
      "outputs": [
        {
          "output_type": "stream",
          "name": "stdout",
          "text": [
            "digite o valor do carro 100000\n",
            "o valor do imposto é 45000.0\n",
            "o valor da distribuiçao e igual á 28000.0\n"
          ]
        }
      ],
      "source": [
        "#calcular\n",
        "##entrada\n",
        "valorcarro = float(input('digite o valor do carro '))\n",
        "\n",
        "##processamento\n",
        "imposto = (valorcarro *45/100)\n",
        "distribuiçao = (valorcarro *28/100)\n",
        "\n",
        "##saida\n",
        "print('o valor do imposto é' , imposto)\n",
        "print('o valor da distribuiçao e igual á', distribuiçao)"
      ]
    },
    {
      "cell_type": "code",
      "source": [
        "#calcular\n",
        "##entrada\n",
        "hora  = float(input('digite a hora '))\n",
        "minutos  = float(input('digite os minutos '))\n",
        "\n",
        "##processamento\n",
        "hora = minutos/60 + hora\n",
        "\n",
        "##saida\n",
        "print('a hora é', hora)"
      ],
      "metadata": {
        "colab": {
          "base_uri": "https://localhost:8080/"
        },
        "id": "FRK7nb41zTC1",
        "outputId": "4d2ca2f0-cd50-46b8-c1c0-7b4914fa15b9"
      },
      "execution_count": 14,
      "outputs": [
        {
          "output_type": "stream",
          "name": "stdout",
          "text": [
            "digite a hora 1\n",
            "digite os minutos 32\n",
            "a hora é 1.5333333333333332\n"
          ]
        }
      ]
    },
    {
      "cell_type": "code",
      "source": [
        "#calcular\n",
        "##entrada\n",
        "hora =  float(input('digite as horas '))\n",
        "minutos = float(input('digite os minutos'))\n",
        "valorhora = float(input('digite o valor por hora'))\n",
        "\n",
        "##processamento\n",
        "hora = hora + minutos/60\n",
        "salario = (hora * valorhora) /100*70\n",
        "\n",
        "##saida\n",
        "print('o valor do salario é', salario)"
      ],
      "metadata": {
        "colab": {
          "base_uri": "https://localhost:8080/"
        },
        "id": "0EZIUYsm0j_Q",
        "outputId": "6c96415c-360d-4f2e-c7cc-748803a4836e"
      },
      "execution_count": 32,
      "outputs": [
        {
          "output_type": "stream",
          "name": "stdout",
          "text": [
            "digite as horas 10\n",
            "digite os minutos10\n",
            "digite o valor por hora10\n",
            "o valor do salario é 71.16666666666666\n"
          ]
        }
      ]
    },
    {
      "cell_type": "code",
      "source": [],
      "metadata": {
        "id": "fuCu_dxa4Tf0"
      },
      "execution_count": null,
      "outputs": []
    }
  ]
}